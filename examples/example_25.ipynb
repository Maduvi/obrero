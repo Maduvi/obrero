{
 "cells": [
  {
   "cell_type": "markdown",
   "metadata": {},
   "source": [
    "# Calculating MCWD\n",
    "\n",
    "The maximum climatological water deficit (MCWD) as described in Malhi et al. (2009) is an useful indicator of how severe water stress can be for vegetation in some region *over land*. It can be linked to ecosystem degradation and transition from more vegetated areas to more arid and deserted conditions. We refer the reader to the original reference for more details. To calculate this quantity one needs monthly total precipitation values and some estimate of total evaporation. The evaporation is a fixed reference value that tells us about the energetic requirements of some area. Malhi et al. (2009), for instance, use the same fixed evaporation value (a mean value for Amazonia) in their calculation of MCWD. In our case we have global gridded data so a single value is not very useful. We instead use the time mean of evaporation of our control simulation, which should be a good indicator of energy demand if conditions remained the same as in the control situation. In obrero we have an experimental module `obrero.experimental.mcwd` that has all functions related to this quantity. Let's import obrero:"
   ]
  },
  {
   "cell_type": "code",
   "execution_count": 9,
   "metadata": {},
   "outputs": [],
   "source": [
    "# small hack to be able to import module without install\n",
    "import os\n",
    "import sys\n",
    "sys.path.append(os.getcwd() + '/../')\n",
    "\n",
    "import obrero\n",
    "from obrero.experimental import mcwd"
   ]
  },
  {
   "cell_type": "markdown",
   "metadata": {},
   "source": [
    "Now for data we need monthly evaporation from some simulation and also the fixed gridded evaporation values:"
   ]
  },
  {
   "cell_type": "code",
   "execution_count": 3,
   "metadata": {},
   "outputs": [],
   "source": [
    "# file name\n",
    "f1 = 'data/ctl_pr_evap.nc'\n",
    "f2 = 'data/ctl_evapmean.nc'\n",
    "\n",
    "# read as data array (ignore warnings because netCDF files are weird)\n",
    "da = obrero.read_nc(f1, 'pr')\n",
    "ev = obrero.read_nc(f2, 'evap')"
   ]
  },
  {
   "cell_type": "markdown",
   "metadata": {},
   "source": [
    "It is crucial that the precipitation values are in units of mm month$^{-1}$, so let's check this is the case:"
   ]
  },
  {
   "cell_type": "code",
   "execution_count": 4,
   "metadata": {},
   "outputs": [
    {
     "data": {
      "text/plain": [
       "<xarray.DataArray 'pr' (time: 72, latitude: 32, longitude: 64)>\n",
       "[147456 values with dtype=float64]\n",
       "Coordinates:\n",
       "  * time       (time) object 0495-01-16 00:00:00 ... 0500-12-16 00:00:00\n",
       "  * longitude  (longitude) float64 0.0 5.625 11.25 16.88 ... 343.1 348.8 354.4\n",
       "  * latitude   (latitude) float64 85.76 80.27 74.74 ... -74.74 -80.27 -85.76\n",
       "Attributes:\n",
       "    long_name:              total_precipitation\n",
       "    units:                  mm month-1\n",
       "    code:                   260\n",
       "    invalid_standard_name:  total_precipitation"
      ]
     },
     "execution_count": 4,
     "metadata": {},
     "output_type": "execute_result"
    }
   ],
   "source": [
    "da"
   ]
  },
  {
   "cell_type": "markdown",
   "metadata": {},
   "source": [
    "As for the evaporation array, since it should be fixed values, there should not be a time coordinate but only spatial latitude and longitude:"
   ]
  },
  {
   "cell_type": "code",
   "execution_count": 5,
   "metadata": {},
   "outputs": [
    {
     "data": {
      "text/plain": [
       "<xarray.DataArray 'evap' (latitude: 32, longitude: 64)>\n",
       "array([[     nan,      nan,      nan, ...,      nan,      nan,      nan],\n",
       "       [     nan,      nan,      nan, ...,      nan,      nan,      nan],\n",
       "       [     nan,      nan,      nan, ...,      nan,      nan,      nan],\n",
       "       ...,\n",
       "       [3.436859, 1.027786, 1.644147, ..., 7.767707, 7.554045, 4.993279],\n",
       "       [0.368241, 0.298154, 0.230442, ..., 1.729947, 0.569654, 0.458637],\n",
       "       [0.45508 , 0.439621, 0.428423, ..., 0.523127, 0.501563, 0.475147]])\n",
       "Coordinates:\n",
       "  * latitude   (latitude) float64 85.76 80.27 74.74 ... -74.74 -80.27 -85.76\n",
       "  * longitude  (longitude) float64 0.0 5.625 11.25 16.88 ... 343.1 348.8 354.4\n",
       "    time       object ...\n",
       "Attributes:\n",
       "    long_name:     CTL monthly evaporation mean\n",
       "    units:         mm month-1\n",
       "    cell_methods:  time: mean"
      ]
     },
     "execution_count": 5,
     "metadata": {},
     "output_type": "execute_result"
    }
   ],
   "source": [
    "ev"
   ]
  },
  {
   "cell_type": "markdown",
   "metadata": {},
   "source": [
    "We see some `NaN` values because this is only **on land**. To get MCWD we use the function `get_mcwd()`:"
   ]
  },
  {
   "cell_type": "code",
   "execution_count": 10,
   "metadata": {},
   "outputs": [
    {
     "data": {
      "text/plain": [
       "array([[[        nan,         nan,         nan, ...,         nan,\n",
       "                 nan,         nan],\n",
       "        [        nan,         nan,         nan, ...,         nan,\n",
       "                 nan,         nan],\n",
       "        [        nan,         nan,         nan, ...,         nan,\n",
       "                 nan,         nan],\n",
       "        ...,\n",
       "        [ 0.        ,  0.        ,  0.        , ..., -5.19589617,\n",
       "         -2.46769368,  0.        ],\n",
       "        [ 0.        ,  0.        ,  0.        , ..., -0.986173  ,\n",
       "          0.        ,  0.        ],\n",
       "        [ 0.        ,  0.        ,  0.        , ...,  0.        ,\n",
       "          0.        ,  0.        ]],\n",
       "\n",
       "       [[        nan,         nan,         nan, ...,         nan,\n",
       "                 nan,         nan],\n",
       "        [        nan,         nan,         nan, ...,         nan,\n",
       "                 nan,         nan],\n",
       "        [        nan,         nan,         nan, ...,         nan,\n",
       "                 nan,         nan],\n",
       "        ...,\n",
       "        [ 0.        ,  0.        ,  0.        , ..., -4.70510009,\n",
       "         -0.84290205,  0.        ],\n",
       "        [ 0.        ,  0.        ,  0.        , ..., -1.07680193,\n",
       "          0.        ,  0.        ],\n",
       "        [ 0.        ,  0.        ,  0.        , ...,  0.        ,\n",
       "          0.        ,  0.        ]],\n",
       "\n",
       "       [[        nan,         nan,         nan, ...,         nan,\n",
       "                 nan,         nan],\n",
       "        [        nan,         nan,         nan, ...,         nan,\n",
       "                 nan,         nan],\n",
       "        [        nan,         nan,         nan, ...,         nan,\n",
       "                 nan,         nan],\n",
       "        ...,\n",
       "        [ 0.        ,  0.        ,  0.        , ..., -7.00229414,\n",
       "         -3.479367  ,  0.        ],\n",
       "        [ 0.        ,  0.        ,  0.        , ...,  0.        ,\n",
       "          0.        ,  0.        ],\n",
       "        [ 0.        ,  0.        ,  0.        , ...,  0.        ,\n",
       "          0.        ,  0.        ]],\n",
       "\n",
       "       [[        nan,         nan,         nan, ...,         nan,\n",
       "                 nan,         nan],\n",
       "        [        nan,         nan,         nan, ...,         nan,\n",
       "                 nan,         nan],\n",
       "        [        nan,         nan,         nan, ...,         nan,\n",
       "                 nan,         nan],\n",
       "        ...,\n",
       "        [ 0.        ,  0.        ,  0.        , ..., -0.7720237 ,\n",
       "         -2.65306031, -1.18774324],\n",
       "        [ 0.        ,  0.        ,  0.        , ..., -1.07226065,\n",
       "         -0.15184064,  0.        ],\n",
       "        [ 0.        ,  0.        ,  0.        , ..., -0.03983233,\n",
       "          0.        ,  0.        ]],\n",
       "\n",
       "       [[        nan,         nan,         nan, ...,         nan,\n",
       "                 nan,         nan],\n",
       "        [        nan,         nan,         nan, ...,         nan,\n",
       "                 nan,         nan],\n",
       "        [        nan,         nan,         nan, ...,         nan,\n",
       "                 nan,         nan],\n",
       "        ...,\n",
       "        [ 0.        ,  0.        ,  0.        , ..., -6.60648165,\n",
       "         -2.50933634,  0.        ],\n",
       "        [ 0.        ,  0.        ,  0.        , ..., -0.78926691,\n",
       "          0.        ,  0.        ],\n",
       "        [ 0.        ,  0.        ,  0.        , ...,  0.        ,\n",
       "          0.        ,  0.        ]],\n",
       "\n",
       "       [[        nan,         nan,         nan, ...,         nan,\n",
       "                 nan,         nan],\n",
       "        [        nan,         nan,         nan, ...,         nan,\n",
       "                 nan,         nan],\n",
       "        [        nan,         nan,         nan, ...,         nan,\n",
       "                 nan,         nan],\n",
       "        ...,\n",
       "        [ 0.        ,  0.        ,  0.        , ..., -5.63471609,\n",
       "         -2.092643  ,  0.        ],\n",
       "        [ 0.        ,  0.        ,  0.        , ..., -0.79773334,\n",
       "          0.        ,  0.        ],\n",
       "        [ 0.        ,  0.        ,  0.        , ...,  0.        ,\n",
       "          0.        ,  0.        ]]])"
      ]
     },
     "execution_count": 10,
     "metadata": {},
     "output_type": "execute_result"
    }
   ],
   "source": [
    "wd = mcwd.get_mcwd(da, ev)\n",
    "wd.values"
   ]
  },
  {
   "cell_type": "markdown",
   "metadata": {},
   "source": [
    "MCWD is a negative quantity and units are mm. The more negative the greater the deficit.\n",
    "\n",
    "## References\n",
    "\n",
    "Malhi, Y., Aragão, L. E., Galbraith, D., Huntingford, C., Fisher, R., Zelazowski, P., ... & Meir, P. (2009). Exploring the likelihood and mechanism of a climate-change-induced dieback of the Amazon rainforest. Proceedings of the National Academy of Sciences, 106(49), 20610-20615."
   ]
  }
 ],
 "metadata": {
  "kernelspec": {
   "display_name": "Python 3",
   "language": "python",
   "name": "python3"
  },
  "language_info": {
   "codemirror_mode": {
    "name": "ipython",
    "version": 3
   },
   "file_extension": ".py",
   "mimetype": "text/x-python",
   "name": "python",
   "nbconvert_exporter": "python",
   "pygments_lexer": "ipython3",
   "version": "3.6.0"
  }
 },
 "nbformat": 4,
 "nbformat_minor": 2
}
