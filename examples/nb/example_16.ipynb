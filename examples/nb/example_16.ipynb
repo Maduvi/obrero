{
 "cells": [
  {
   "cell_type": "markdown",
   "metadata": {},
   "source": [
    "# Amplify anomalies using ENSO phases\n",
    "\n",
    "In our experiments we amplify anomalies using El Niño-Southern Oscillation (ENSO) phases. So we have created a pair of auxiliary functions to do this. First we import `obrero` and the experimental `enso` module:"
   ]
  },
  {
   "cell_type": "code",
   "execution_count": 2,
   "metadata": {},
   "outputs": [],
   "source": [
    "# small hack to be able to import module without install\n",
    "import os\n",
    "import sys\n",
    "sys.path.append(os.getcwd() + '/../')\n",
    "\n",
    "import obrero\n",
    "from obrero.experimental import enso"
   ]
  },
  {
   "cell_type": "markdown",
   "metadata": {},
   "source": [
    "Now we read the sea surface temperature (SST) data we wan to amplify following ENSO phases:"
   ]
  },
  {
   "cell_type": "code",
   "execution_count": 3,
   "metadata": {},
   "outputs": [],
   "source": [
    "# filename\n",
    "fname = 'data/sst_ctl.nc'\n",
    "\n",
    "# read as datarray\n",
    "da = obrero.read_nc(fname, 'tosbcs')"
   ]
  },
  {
   "cell_type": "markdown",
   "metadata": {},
   "source": [
    "We will amplify anomalies in SST in order to obtain greater ONI values (which should mean stronger ENSO events). So we will get anomalies and climatology using `get_anomalies()` function in `obrero.analysis` module:"
   ]
  },
  {
   "cell_type": "code",
   "execution_count": 4,
   "metadata": {},
   "outputs": [],
   "source": [
    "an, ac = obrero.get_anomalies(da, return_clim=True)"
   ]
  },
  {
   "cell_type": "markdown",
   "metadata": {},
   "source": [
    "Notice we have used the `return_clim` keyword in order to save some lines in which we compute climatology. Also there is no need to compute it twice, since it is already being calculated for the anomalies. Now we need the ONI values:"
   ]
  },
  {
   "cell_type": "code",
   "execution_count": 5,
   "metadata": {},
   "outputs": [],
   "source": [
    "oni = enso.get_oni(years=range(2005, 2011))"
   ]
  },
  {
   "cell_type": "markdown",
   "metadata": {},
   "source": [
    "And to get amplified anomalies following ENSO we use function `amplify_with_enso()`. This function needs an anomalies array, an ONI data frame, a factor to amplify values and an optional bounds argument, in case the user only wants to amplify values in a specific region. Here we will amplify it in a rectangular area:"
   ]
  },
  {
   "cell_type": "code",
   "execution_count": 6,
   "metadata": {},
   "outputs": [],
   "source": [
    "anamp = enso.amplify_with_enso(an, oni, 1.5, [100, 300, 20, -20])"
   ]
  },
  {
   "cell_type": "markdown",
   "metadata": {},
   "source": [
    "And now we add these anomalies to the climatology to get the absolute values once again, but now amplified. To do this we have the function `add_climatology()` in the `obrero.analysis` module:"
   ]
  },
  {
   "cell_type": "code",
   "execution_count": 7,
   "metadata": {},
   "outputs": [],
   "source": [
    "da_amp = obrero.add_climatology(anamp, ac)"
   ]
  },
  {
   "cell_type": "markdown",
   "metadata": {},
   "source": [
    "If we go [here](https://origin.cpc.ncep.noaa.gov/products/analysis_monitoring/ensostuff/ONI_v5.php), we can see that January of 2005 should have been amplified, however since we have sliced our ONI to start at January 2005, the ENSO finder (`obrero.experimental.enso.enso_finder()`) function will not be able to get the 5 month streak it needs to establish the El Niño. So the first month when we can see amplification working is in November 2005 when there was a La Niña. Let's slice our data arrays to the rectangular region we amplified and use the annual cycle to compute anomalies. Then we can see how the anomaly for some arbitrary grid cell inside the region has been amplified by a factor of 1.5:"
   ]
  },
  {
   "cell_type": "code",
   "execution_count": 8,
   "metadata": {},
   "outputs": [
    {
     "name": "stdout",
     "output_type": "stream",
     "text": [
      "Original anomaly: -0.40902209617973995\n",
      "Amplified anomaly: -0.6135331442696383\n"
     ]
    }
   ],
   "source": [
    "# get rectangular regions\n",
    "ac_reg = obrero.get_rectreg(ac, [100, 300, 20, -20])\n",
    "orig = obrero.get_rectreg(da, [100, 300, 20, -20])\n",
    "amp = obrero.get_rectreg(da_amp, [100, 300, 20, -20])\n",
    "\n",
    "# print anomalies for December (11th position) for gridpoint (0,0)\n",
    "print(\"Original anomaly:\", orig.values[11, 0, 0] - ac_reg.values[11, 0, 0])\n",
    "print(\"Amplified anomaly:\", amp.values[11, 0, 0] - ac_reg.values[11, 0, 0])"
   ]
  },
  {
   "cell_type": "markdown",
   "metadata": {},
   "source": [
    "So we can see that now the anomaly in the amplified array is 1.5 times the original value. Hopefully it is clear what `amplify_with_enso()` does."
   ]
  }
 ],
 "metadata": {
  "kernelspec": {
   "display_name": "Python 3",
   "language": "python",
   "name": "python3"
  },
  "language_info": {
   "codemirror_mode": {
    "name": "ipython",
    "version": 3
   },
   "file_extension": ".py",
   "mimetype": "text/x-python",
   "name": "python",
   "nbconvert_exporter": "python",
   "pygments_lexer": "ipython3",
   "version": "3.6.0"
  }
 },
 "nbformat": 4,
 "nbformat_minor": 2
}
