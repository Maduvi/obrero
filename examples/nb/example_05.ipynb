{
 "cells": [
  {
   "cell_type": "markdown",
   "metadata": {},
   "source": [
    "# Calculate climatology\n",
    "\n",
    "Climatology here is defined as a multi-year mean monthly annual cycle of values for a variable. Although we could have daily climatology, it is more frequent to find monthly climatologies, so we end up with 12 time steps, one for each month. So we simply group data by month and then we take the mean for each one. Let's import obrero:"
   ]
  },
  {
   "cell_type": "code",
   "execution_count": 1,
   "metadata": {},
   "outputs": [],
   "source": [
    "# small hack to be able to import module without install\n",
    "import os\n",
    "import sys\n",
    "sys.path.append(os.getcwd() + '/../')\n",
    "\n",
    "import obrero"
   ]
  },
  {
   "cell_type": "markdown",
   "metadata": {},
   "source": [
    "Now we read some data that can have multiple time steps and can be daily or monthly:"
   ]
  },
  {
   "cell_type": "code",
   "execution_count": 2,
   "metadata": {},
   "outputs": [],
   "source": [
    "# read data\n",
    "fname = 'data/ctl.nc'\n",
    "\n",
    "# read as data array\n",
    "da = obrero.read_nc(fname, 'pr')\n",
    "\n",
    "# convert units\n",
    "da.convert_units('mm day-1')"
   ]
  },
  {
   "cell_type": "markdown",
   "metadata": {},
   "source": [
    "To obtain climatologies we simply use the function in obrero `get_climatology()`:"
   ]
  },
  {
   "cell_type": "code",
   "execution_count": 3,
   "metadata": {},
   "outputs": [
    {
     "data": {
      "text/plain": [
       "<xarray.DataArray 'pr' (time: 12, latitude: 32, longitude: 64)>\n",
       "array([[[0.460422, 0.488026, ..., 0.384425, 0.424641],\n",
       "        [0.764896, 0.795208, ..., 0.707937, 0.737105],\n",
       "        ...,\n",
       "        [0.22063 , 0.205339, ..., 0.203253, 0.21308 ],\n",
       "        [0.373062, 0.38471 , ..., 0.360702, 0.366603]],\n",
       "\n",
       "       [[0.362926, 0.374148, ..., 0.316266, 0.340272],\n",
       "        [1.141322, 1.092431, ..., 1.12725 , 1.169309],\n",
       "        ...,\n",
       "        [0.385848, 0.318753, ..., 0.363725, 0.404948],\n",
       "        [0.527909, 0.581125, ..., 0.44218 , 0.488321]],\n",
       "\n",
       "       ...,\n",
       "\n",
       "       [[0.574916, 0.592312, ..., 0.540395, 0.559675],\n",
       "        [1.323046, 1.222702, ..., 1.478527, 1.427065],\n",
       "        ...,\n",
       "        [0.191551, 0.211062, ..., 0.159824, 0.16989 ],\n",
       "        [0.263806, 0.276706, ..., 0.247505, 0.254431]],\n",
       "\n",
       "       [[0.403854, 0.409438, ..., 0.399308, 0.398554],\n",
       "        [1.076386, 0.9929  , ..., 1.12202 , 1.104662],\n",
       "        ...,\n",
       "        [0.24895 , 0.215464, ..., 0.243154, 0.263971],\n",
       "        [0.425207, 0.436138, ..., 0.391375, 0.410861]]], dtype=float32)\n",
       "Coordinates:\n",
       "  * longitude  (longitude) float64 0.0 5.625 11.25 16.88 ... 343.1 348.8 354.4\n",
       "  * latitude   (latitude) float64 85.76 80.27 74.74 ... -74.74 -80.27 -85.76\n",
       "  * time       (time) int64 1 2 3 4 5 6 7 8 9 10 11 12\n",
       "Attributes:\n",
       "    standard_name:  total_precipitation\n",
       "    long_name:      total_precipitation\n",
       "    units:          mm day-1\n",
       "    code:           260"
      ]
     },
     "execution_count": 3,
     "metadata": {},
     "output_type": "execute_result"
    }
   ],
   "source": [
    "# get climatology\n",
    "ac = obrero.get_climatology(da)\n",
    "ac"
   ]
  },
  {
   "cell_type": "markdown",
   "metadata": {},
   "source": [
    "Now we only have 12 time values. In this case the time coordinate is almost meaningless in the sense that it does not have actual dates anymore. It simply has integer values for each month. 1 is January and 12 is December."
   ]
  }
 ],
 "metadata": {
  "kernelspec": {
   "display_name": "Python 3",
   "language": "python",
   "name": "python3"
  },
  "language_info": {
   "codemirror_mode": {
    "name": "ipython",
    "version": 3
   },
   "file_extension": ".py",
   "mimetype": "text/x-python",
   "name": "python",
   "nbconvert_exporter": "python",
   "pygments_lexer": "ipython3",
   "version": "3.6.0"
  }
 },
 "nbformat": 4,
 "nbformat_minor": 2
}
