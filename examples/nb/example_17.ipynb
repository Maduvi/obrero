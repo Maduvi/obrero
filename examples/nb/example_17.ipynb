{
 "cells": [
  {
   "cell_type": "markdown",
   "metadata": {},
   "source": [
    "# Creating season means time series\n",
    "\n",
    "Sometimes it is useful to have a time series in the form: DJF, MAM, JJA, SON, DJF, MAM, ... This is easily achieved using xarray's great averaging and indexing methods. We have created an auxiliary function in obrero in order to ease this process. First let's import obrero:"
   ]
  },
  {
   "cell_type": "code",
   "execution_count": 1,
   "metadata": {},
   "outputs": [],
   "source": [
    "# small hack to be able to import module without install\n",
    "import os\n",
    "import sys\n",
    "sys.path.append(os.getcwd() + '/../')\n",
    "\n",
    "import obrero"
   ]
  },
  {
   "cell_type": "markdown",
   "metadata": {},
   "source": [
    "Now we read some data:"
   ]
  },
  {
   "cell_type": "code",
   "execution_count": 3,
   "metadata": {},
   "outputs": [
    {
     "data": {
      "text/plain": [
       "<xarray.DataArray 'tosbcs' (time: 72, latitude: 32, longitude: 64)>\n",
       "[147456 values with dtype=float64]\n",
       "Coordinates:\n",
       "  * time       (time) datetime64[ns] 2005-01-16T12:00:00 ... 2010-12-16T12:00:00\n",
       "  * longitude  (longitude) float64 0.0 5.625 11.25 16.88 ... 343.1 348.8 354.4\n",
       "  * latitude   (latitude) float64 85.76 80.27 74.74 ... -74.74 -80.27 -85.76\n",
       "Attributes:\n",
       "    standard_name:  sea_surface_temperature\n",
       "    long_name:      Constructed mid-month Sea Surface Temperature\n",
       "    units:          K\n",
       "    cell_methods:   time: point"
      ]
     },
     "execution_count": 3,
     "metadata": {},
     "output_type": "execute_result"
    }
   ],
   "source": [
    "# filename\n",
    "fname = 'data/sst_ctl.nc'\n",
    "\n",
    "# read as datarray\n",
    "da = obrero.read_nc(fname, 'tosbcs')\n",
    "da"
   ]
  },
  {
   "cell_type": "markdown",
   "metadata": {},
   "source": [
    "In order to obtain a season means time series we use the function `get_season_series()` part of the `obrero.analysis` module. Let's see:"
   ]
  },
  {
   "cell_type": "code",
   "execution_count": 4,
   "metadata": {},
   "outputs": [
    {
     "data": {
      "text/plain": [
       "<xarray.DataArray (time: 25, latitude: 32, longitude: 64)>\n",
       "array([[[271.38    , 271.38    , ..., 271.38    , 271.38    ],\n",
       "        [272.601177, 273.816824, ..., 271.38    , 271.527633],\n",
       "        ...,\n",
       "        [271.38    , 271.38    , ..., 271.38    , 271.38    ],\n",
       "        [271.38    , 271.38    , ..., 271.38    , 271.38    ]],\n",
       "\n",
       "       [[271.38    , 271.38    , ..., 271.38    , 271.38    ],\n",
       "        [272.543353, 273.641322, ..., 271.38    , 271.591197],\n",
       "        ...,\n",
       "        [271.38    , 271.38    , ..., 271.38    , 271.38    ],\n",
       "        [271.38    , 271.38    , ..., 271.38    , 271.38    ]],\n",
       "\n",
       "       ...,\n",
       "\n",
       "       [[271.38    , 271.398638, ..., 271.38    , 271.38    ],\n",
       "        [272.506467, 273.938498, ..., 271.384103, 271.387249],\n",
       "        ...,\n",
       "        [271.38    , 271.38    , ..., 271.38    , 271.38    ],\n",
       "        [271.38    , 271.38    , ..., 271.38    , 271.38    ]],\n",
       "\n",
       "       [[271.38    , 271.38    , ..., 271.38    , 271.38    ],\n",
       "        [272.126996, 273.043407, ..., 271.38    , 271.458122],\n",
       "        ...,\n",
       "        [271.38    , 271.38    , ..., 271.38    , 271.38    ],\n",
       "        [271.38    , 271.38    , ..., 271.38    , 271.38    ]]])\n",
       "Coordinates:\n",
       "  * longitude  (longitude) float64 0.0 5.625 11.25 16.88 ... 343.1 348.8 354.4\n",
       "  * latitude   (latitude) float64 85.76 80.27 74.74 ... -74.74 -80.27 -85.76\n",
       "  * time       (time) datetime64[ns] 2005-02-28T23:59:59.999999999 ... 2011-02-28T23:59:59.999999999\n",
       "    season     (time) object 'DJF' 'MAM' 'JJA' 'SON' ... 'MAM' 'JJA' 'SON' 'DJF'"
      ]
     },
     "execution_count": 4,
     "metadata": {},
     "output_type": "execute_result"
    }
   ],
   "source": [
    "sms = obrero.get_season_series(da)\n",
    "sms"
   ]
  },
  {
   "cell_type": "markdown",
   "metadata": {},
   "source": [
    "As you can see now we have another auxiliary coordinate named `season` which simply adds the correct name for the season mean. The actual time coordinate contains a timestamp for the end of the season. So if it is DJF, it will have a timestamp for February. But here we got **all seasons**, and sometimes we want a time series of a single season, say DJF for all years in a file. We can specify a season in this function in order to only get that season:"
   ]
  },
  {
   "cell_type": "code",
   "execution_count": 5,
   "metadata": {},
   "outputs": [
    {
     "data": {
      "text/plain": [
       "<xarray.DataArray (time: 7, latitude: 32, longitude: 64)>\n",
       "array([[[271.38    , 271.38    , ..., 271.38    , 271.38    ],\n",
       "        [272.601177, 273.816824, ..., 271.38    , 271.527633],\n",
       "        ...,\n",
       "        [271.38    , 271.38    , ..., 271.38    , 271.38    ],\n",
       "        [271.38    , 271.38    , ..., 271.38    , 271.38    ]],\n",
       "\n",
       "       [[271.38    , 271.38    , ..., 271.38    , 271.38    ],\n",
       "        [272.829159, 273.893521, ..., 271.38    , 271.575706],\n",
       "        ...,\n",
       "        [271.38    , 271.38    , ..., 271.38    , 271.38    ],\n",
       "        [271.38    , 271.38    , ..., 271.38    , 271.38    ]],\n",
       "\n",
       "       ...,\n",
       "\n",
       "       [[271.38    , 271.38    , ..., 271.38    , 271.38    ],\n",
       "        [272.583563, 273.393413, ..., 271.38    , 271.551909],\n",
       "        ...,\n",
       "        [271.38    , 271.38    , ..., 271.38    , 271.38    ],\n",
       "        [271.38    , 271.38    , ..., 271.38    , 271.38    ]],\n",
       "\n",
       "       [[271.38    , 271.38    , ..., 271.38    , 271.38    ],\n",
       "        [272.126996, 273.043407, ..., 271.38    , 271.458122],\n",
       "        ...,\n",
       "        [271.38    , 271.38    , ..., 271.38    , 271.38    ],\n",
       "        [271.38    , 271.38    , ..., 271.38    , 271.38    ]]])\n",
       "Coordinates:\n",
       "  * longitude  (longitude) float64 0.0 5.625 11.25 16.88 ... 343.1 348.8 354.4\n",
       "  * latitude   (latitude) float64 85.76 80.27 74.74 ... -74.74 -80.27 -85.76\n",
       "  * time       (time) datetime64[ns] 2005-02-28T23:59:59.999999999 ... 2011-02-28T23:59:59.999999999\n",
       "    season     (time) object 'DJF' 'DJF' 'DJF' 'DJF' 'DJF' 'DJF' 'DJF'"
      ]
     },
     "execution_count": 5,
     "metadata": {},
     "output_type": "execute_result"
    }
   ],
   "source": [
    "djfser = obrero.get_season_series(da, season='DJF')\n",
    "djfser"
   ]
  },
  {
   "cell_type": "markdown",
   "metadata": {},
   "source": [
    "As we can see, now we only have DJF seasons, one for each year in the file. Know that the first year in this case was the average of only January and February and the last mean was only December."
   ]
  }
 ],
 "metadata": {
  "kernelspec": {
   "display_name": "Python 3",
   "language": "python",
   "name": "python3"
  },
  "language_info": {
   "codemirror_mode": {
    "name": "ipython",
    "version": 3
   },
   "file_extension": ".py",
   "mimetype": "text/x-python",
   "name": "python",
   "nbconvert_exporter": "python",
   "pygments_lexer": "ipython3",
   "version": "3.6.0"
  }
 },
 "nbformat": 4,
 "nbformat_minor": 2
}
