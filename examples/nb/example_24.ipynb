{
 "cells": [
  {
   "cell_type": "markdown",
   "metadata": {},
   "source": [
    "# Getting ENSO phases\n",
    "\n",
    "In obrero we sometimes like to average only a certain type of El Niño-Southern Oscillation (ENSO) phase. For instance we want to average all El Niño years to have a sort of \"climatology\" for this phase. To do this we use functions in the experimental module `obrero.experimental.enso`. An ENSO phase here begins in June of the starting year and ends in May of the next year. Let's import obrero:"
   ]
  },
  {
   "cell_type": "code",
   "execution_count": 1,
   "metadata": {},
   "outputs": [],
   "source": [
    "# small hack to be able to import module without install\n",
    "import os\n",
    "import sys\n",
    "sys.path.append(os.getcwd() + '/../')\n",
    "\n",
    "import obrero\n",
    "from obrero.experimental import enso"
   ]
  },
  {
   "cell_type": "markdown",
   "metadata": {},
   "source": [
    "Now we read some data:"
   ]
  },
  {
   "cell_type": "code",
   "execution_count": 2,
   "metadata": {},
   "outputs": [],
   "source": [
    "# file name\n",
    "f1 = 'data/ctl.nc'\n",
    "\n",
    "# read as data array\n",
    "da = obrero.read_nc(f1, 'pr')\n",
    "\n",
    "# convert units\n",
    "da.convert_units('mm day-1')"
   ]
  },
  {
   "cell_type": "markdown",
   "metadata": {},
   "source": [
    "This data array spans from January 2005 to December 2010. If we wanted to separate data into three different parts, one for each ENSO phase: El Niño, La Niña and Neutral, we can use the function `get_enso_phases()` which is part of the ENSO experimental module. It will use data from NOAA's Climate Prediction Center to select years for each phase. Let's see:"
   ]
  },
  {
   "cell_type": "code",
   "execution_count": 3,
   "metadata": {},
   "outputs": [],
   "source": [
    "nino, nina, neut = enso.get_enso_phases(da)"
   ]
  },
  {
   "cell_type": "markdown",
   "metadata": {},
   "source": [
    "Let's see the `nino`:"
   ]
  },
  {
   "cell_type": "code",
   "execution_count": 5,
   "metadata": {},
   "outputs": [
    {
     "data": {
      "text/plain": [
       "array([cftime.Datetime360Day(2005, 1, 1, 0, 0, 0, 0, 2, 1),\n",
       "       cftime.Datetime360Day(2005, 2, 1, 0, 0, 0, 0, 4, 31),\n",
       "       cftime.Datetime360Day(2005, 3, 1, 0, 0, 0, 0, 6, 61),\n",
       "       cftime.Datetime360Day(2005, 4, 1, 0, 0, 0, 0, 1, 91),\n",
       "       cftime.Datetime360Day(2005, 5, 1, 0, 0, 0, 0, 3, 121),\n",
       "       cftime.Datetime360Day(2006, 6, 1, 0, 0, 0, 0, 1, 151),\n",
       "       cftime.Datetime360Day(2006, 7, 1, 0, 0, 0, 0, 3, 181),\n",
       "       cftime.Datetime360Day(2006, 8, 1, 0, 0, 0, 0, 5, 211),\n",
       "       cftime.Datetime360Day(2006, 9, 1, 0, 0, 0, 0, 0, 241),\n",
       "       cftime.Datetime360Day(2006, 10, 1, 0, 0, 0, 0, 2, 271),\n",
       "       cftime.Datetime360Day(2006, 11, 1, 0, 0, 0, 0, 4, 301),\n",
       "       cftime.Datetime360Day(2006, 12, 1, 0, 0, 0, 0, 6, 331),\n",
       "       cftime.Datetime360Day(2007, 1, 1, 0, 0, 0, 0, 1, 1),\n",
       "       cftime.Datetime360Day(2007, 2, 1, 0, 0, 0, 0, 3, 31),\n",
       "       cftime.Datetime360Day(2007, 3, 1, 0, 0, 0, 0, 5, 61),\n",
       "       cftime.Datetime360Day(2007, 4, 1, 0, 0, 0, 0, 0, 91),\n",
       "       cftime.Datetime360Day(2007, 5, 1, 0, 0, 0, 0, 2, 121),\n",
       "       cftime.Datetime360Day(2009, 6, 1, 0, 0, 0, 0, 3, 151),\n",
       "       cftime.Datetime360Day(2009, 7, 1, 0, 0, 0, 0, 5, 181),\n",
       "       cftime.Datetime360Day(2009, 8, 1, 0, 0, 0, 0, 0, 211),\n",
       "       cftime.Datetime360Day(2009, 9, 1, 0, 0, 0, 0, 2, 241),\n",
       "       cftime.Datetime360Day(2009, 10, 1, 0, 0, 0, 0, 4, 271),\n",
       "       cftime.Datetime360Day(2009, 11, 1, 0, 0, 0, 0, 6, 301),\n",
       "       cftime.Datetime360Day(2009, 12, 1, 0, 0, 0, 0, 1, 331),\n",
       "       cftime.Datetime360Day(2010, 1, 1, 0, 0, 0, 0, 3, 1),\n",
       "       cftime.Datetime360Day(2010, 2, 1, 0, 0, 0, 0, 5, 31),\n",
       "       cftime.Datetime360Day(2010, 3, 1, 0, 0, 0, 0, 0, 61),\n",
       "       cftime.Datetime360Day(2010, 4, 1, 0, 0, 0, 0, 2, 91),\n",
       "       cftime.Datetime360Day(2010, 5, 1, 0, 0, 0, 0, 4, 121)],\n",
       "      dtype=object)"
      ]
     },
     "execution_count": 5,
     "metadata": {},
     "output_type": "execute_result"
    }
   ],
   "source": [
    "nino.time.values"
   ]
  },
  {
   "cell_type": "markdown",
   "metadata": {},
   "source": [
    "We can see that in the data there are three El Niño events: half of the 2004-05, 2006-07 and 2009-10. The curious can checkout [here](https://origin.cpc.ncep.noaa.gov/products/analysis_monitoring/ensostuff/ONI_v5.php) to see that these are correct. Now let's see `nina`:"
   ]
  },
  {
   "cell_type": "code",
   "execution_count": 7,
   "metadata": {},
   "outputs": [
    {
     "data": {
      "text/plain": [
       "array([cftime.Datetime360Day(2005, 6, 1, 0, 0, 0, 0, 5, 151),\n",
       "       cftime.Datetime360Day(2005, 7, 1, 0, 0, 0, 0, 0, 181),\n",
       "       cftime.Datetime360Day(2005, 8, 1, 0, 0, 0, 0, 2, 211),\n",
       "       cftime.Datetime360Day(2005, 9, 1, 0, 0, 0, 0, 4, 241),\n",
       "       cftime.Datetime360Day(2005, 10, 1, 0, 0, 0, 0, 6, 271),\n",
       "       cftime.Datetime360Day(2005, 11, 1, 0, 0, 0, 0, 1, 301),\n",
       "       cftime.Datetime360Day(2005, 12, 1, 0, 0, 0, 0, 3, 331),\n",
       "       cftime.Datetime360Day(2006, 1, 1, 0, 0, 0, 0, 5, 1),\n",
       "       cftime.Datetime360Day(2006, 2, 1, 0, 0, 0, 0, 0, 31),\n",
       "       cftime.Datetime360Day(2006, 3, 1, 0, 0, 0, 0, 2, 61),\n",
       "       cftime.Datetime360Day(2006, 4, 1, 0, 0, 0, 0, 4, 91),\n",
       "       cftime.Datetime360Day(2006, 5, 1, 0, 0, 0, 0, 6, 121),\n",
       "       cftime.Datetime360Day(2007, 6, 1, 0, 0, 0, 0, 4, 151),\n",
       "       cftime.Datetime360Day(2007, 7, 1, 0, 0, 0, 0, 6, 181),\n",
       "       cftime.Datetime360Day(2007, 8, 1, 0, 0, 0, 0, 1, 211),\n",
       "       cftime.Datetime360Day(2007, 9, 1, 0, 0, 0, 0, 3, 241),\n",
       "       cftime.Datetime360Day(2007, 10, 1, 0, 0, 0, 0, 5, 271),\n",
       "       cftime.Datetime360Day(2007, 11, 1, 0, 0, 0, 0, 0, 301),\n",
       "       cftime.Datetime360Day(2007, 12, 1, 0, 0, 0, 0, 2, 331),\n",
       "       cftime.Datetime360Day(2008, 1, 1, 0, 0, 0, 0, 4, 1),\n",
       "       cftime.Datetime360Day(2008, 2, 1, 0, 0, 0, 0, 6, 31),\n",
       "       cftime.Datetime360Day(2008, 3, 1, 0, 0, 0, 0, 1, 61),\n",
       "       cftime.Datetime360Day(2008, 4, 1, 0, 0, 0, 0, 3, 91),\n",
       "       cftime.Datetime360Day(2008, 5, 1, 0, 0, 0, 0, 5, 121),\n",
       "       cftime.Datetime360Day(2008, 6, 1, 0, 0, 0, 0, 0, 151),\n",
       "       cftime.Datetime360Day(2008, 7, 1, 0, 0, 0, 0, 2, 181),\n",
       "       cftime.Datetime360Day(2008, 8, 1, 0, 0, 0, 0, 4, 211),\n",
       "       cftime.Datetime360Day(2008, 9, 1, 0, 0, 0, 0, 6, 241),\n",
       "       cftime.Datetime360Day(2008, 10, 1, 0, 0, 0, 0, 1, 271),\n",
       "       cftime.Datetime360Day(2008, 11, 1, 0, 0, 0, 0, 3, 301),\n",
       "       cftime.Datetime360Day(2008, 12, 1, 0, 0, 0, 0, 5, 331),\n",
       "       cftime.Datetime360Day(2009, 1, 1, 0, 0, 0, 0, 0, 1),\n",
       "       cftime.Datetime360Day(2009, 2, 1, 0, 0, 0, 0, 2, 31),\n",
       "       cftime.Datetime360Day(2009, 3, 1, 0, 0, 0, 0, 4, 61),\n",
       "       cftime.Datetime360Day(2009, 4, 1, 0, 0, 0, 0, 6, 91),\n",
       "       cftime.Datetime360Day(2009, 5, 1, 0, 0, 0, 0, 1, 121)],\n",
       "      dtype=object)"
      ]
     },
     "execution_count": 7,
     "metadata": {},
     "output_type": "execute_result"
    }
   ],
   "source": [
    "nina.time.values"
   ]
  },
  {
   "cell_type": "markdown",
   "metadata": {},
   "source": [
    "In this case we have events of La Niña: 2005-06, 2007-08 and 2008-09. As for `neut`:"
   ]
  },
  {
   "cell_type": "code",
   "execution_count": 8,
   "metadata": {},
   "outputs": [
    {
     "data": {
      "text/plain": [
       "array([], dtype=object)"
      ]
     },
     "execution_count": 8,
     "metadata": {},
     "output_type": "execute_result"
    }
   ],
   "source": [
    "neut.time.values"
   ]
  },
  {
   "cell_type": "markdown",
   "metadata": {},
   "source": [
    "We see it is empty. There was no neutral year from 2005 to 2010.\n",
    "\n",
    "## Saving files\n",
    "\n",
    "This same function can be used to save these arrays to netCDF files. Simply use the keyword `save`, which can be a boolean value or a base name which will be used to name three separate files appended with `_nino.nc`, `_nina.nc` and `_neutral.nc`."
   ]
  }
 ],
 "metadata": {
  "kernelspec": {
   "display_name": "Python 3",
   "language": "python",
   "name": "python3"
  },
  "language_info": {
   "codemirror_mode": {
    "name": "ipython",
    "version": 3
   },
   "file_extension": ".py",
   "mimetype": "text/x-python",
   "name": "python",
   "nbconvert_exporter": "python",
   "pygments_lexer": "ipython3",
   "version": "3.6.0"
  }
 },
 "nbformat": 4,
 "nbformat_minor": 2
}
