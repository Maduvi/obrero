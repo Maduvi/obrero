{
 "cells": [
  {
   "cell_type": "markdown",
   "metadata": {},
   "source": [
    "# Selecting a rectangular region\n",
    "\n",
    "obrero has very useful function called `get_rectreg()` part of its `spatial` module. We can use this function to select rectangular regions in an xarray `DataArray` that has been read using obrero's `read_nc()`. First let's import obrero:"
   ]
  },
  {
   "cell_type": "code",
   "execution_count": 1,
   "metadata": {},
   "outputs": [],
   "source": [
    "# small hack to be able to import module without install\n",
    "import os\n",
    "import sys\n",
    "sys.path.append(os.getcwd() + '/../')\n",
    "\n",
    "import obrero"
   ]
  },
  {
   "cell_type": "markdown",
   "metadata": {},
   "source": [
    "Now we will read a netCDF and convert units to more friendly Celsius:"
   ]
  },
  {
   "cell_type": "code",
   "execution_count": 2,
   "metadata": {},
   "outputs": [],
   "source": [
    "# read data\n",
    "fname = 'data/ctl.nc'\n",
    "\n",
    "# read as data array\n",
    "da = obrero.read_nc(fname, 'tas')\n",
    "\n",
    "# convert units\n",
    "da.convert_units('Celsius')"
   ]
  },
  {
   "cell_type": "markdown",
   "metadata": {},
   "source": [
    "Now we can choose a rectangular region. To do this we need to tell the functions the boundaries of the region of interest. We do this using a list object in which the order must be: \n",
    "\n",
    ">\\[longitude$_{0}$, longitude$_{1}$, latitude$_{0}$, latitude$_{1}$\\]"
   ]
  },
  {
   "cell_type": "markdown",
   "metadata": {},
   "source": [
    "Say in this case we are interested in the Niño 3.4 region. We know this region goes from 170$^{\\circ}$ W to 120$^{\\circ}$ and from 5$^{\\circ}$ S to 5$^{\\circ}$ N. Upon closer inspection we find that longitude coordinates in the file are actually in range \\[0, 360\\]. And also we realize that latitudes are inverted in the file, going from north to south. So finally in this case, to get the Niño 3.4 region we do:"
   ]
  },
  {
   "cell_type": "code",
   "execution_count": 3,
   "metadata": {},
   "outputs": [
    {
     "data": {
      "text/plain": [
       "<xarray.DataArray 'tas' (time: 72, latitude: 2, longitude: 9)>\n",
       "array([[[27.156672, 27.060236, ..., 24.678766, 24.92837 ],\n",
       "        [27.210352, 27.224787, ..., 24.781641, 24.243952]],\n",
       "\n",
       "       [[26.975763, 26.824915, ..., 25.009516, 25.099512],\n",
       "        [27.284693, 27.222376, ..., 25.263514, 24.567865]],\n",
       "\n",
       "       ...,\n",
       "\n",
       "       [[25.327417, 25.3146  , ..., 22.938776, 22.85586 ],\n",
       "        [25.259974, 25.111902, ..., 22.745905, 22.063898]],\n",
       "\n",
       "       [[25.67068 , 25.5552  , ..., 23.087152, 22.832087],\n",
       "        [25.719019, 25.593164, ..., 23.087488, 22.197504]]], dtype=float32)\n",
       "Coordinates:\n",
       "  * time       (time) object 2005-01-01 00:00:00 ... 2010-12-01 00:00:00\n",
       "  * longitude  (longitude) float64 191.2 196.9 202.5 208.1 ... 225.0 230.6 236.2\n",
       "  * latitude   (latitude) float64 2.769 -2.769\n",
       "Attributes:\n",
       "    standard_name:  air_temperature_2m\n",
       "    long_name:      air_temperature_2m\n",
       "    units:          Celsius\n",
       "    code:           167"
      ]
     },
     "execution_count": 3,
     "metadata": {},
     "output_type": "execute_result"
    }
   ],
   "source": [
    "nino = obrero.get_rectreg(da, [190, 240, 5, -5])\n",
    "nino"
   ]
  }
 ],
 "metadata": {
  "kernelspec": {
   "display_name": "Python 3",
   "language": "python",
   "name": "python3"
  },
  "language_info": {
   "codemirror_mode": {
    "name": "ipython",
    "version": 3
   },
   "file_extension": ".py",
   "mimetype": "text/x-python",
   "name": "python",
   "nbconvert_exporter": "python",
   "pygments_lexer": "ipython3",
   "version": "3.6.0"
  }
 },
 "nbformat": 4,
 "nbformat_minor": 2
}
