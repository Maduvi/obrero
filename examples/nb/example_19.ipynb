{
 "cells": [
  {
   "cell_type": "markdown",
   "metadata": {},
   "source": [
    "# Computing seasonal means\n",
    "\n",
    "It is many times useful to get the seasonal means from some data file. Here is the way to do it with obrero. First we import the module:"
   ]
  },
  {
   "cell_type": "code",
   "execution_count": 1,
   "metadata": {},
   "outputs": [],
   "source": [
    "# small hack to be able to import module without install\n",
    "import os\n",
    "import sys\n",
    "sys.path.append(os.getcwd() + '/../')\n",
    "\n",
    "import obrero"
   ]
  },
  {
   "cell_type": "markdown",
   "metadata": {},
   "source": [
    "Now we read some data:"
   ]
  },
  {
   "cell_type": "code",
   "execution_count": 2,
   "metadata": {},
   "outputs": [],
   "source": [
    "# read data\n",
    "fname = 'data/ctl.nc'\n",
    "\n",
    "# read as data array\n",
    "da = obrero.read_nc(fname, 'pr')\n",
    "\n",
    "# convert units\n",
    "da.convert_units('mm day-1')"
   ]
  },
  {
   "cell_type": "markdown",
   "metadata": {},
   "source": [
    "This is monthly data that has this many months of data:"
   ]
  },
  {
   "cell_type": "code",
   "execution_count": 3,
   "metadata": {},
   "outputs": [
    {
     "name": "stdout",
     "output_type": "stream",
     "text": [
      "72\n"
     ]
    }
   ],
   "source": [
    "print(da.time.size)"
   ]
  },
  {
   "cell_type": "markdown",
   "metadata": {},
   "source": [
    "To obtain seasonal means, we use function `get_season_means()` from the `obrero.analysis` module:"
   ]
  },
  {
   "cell_type": "code",
   "execution_count": 5,
   "metadata": {},
   "outputs": [
    {
     "data": {
      "text/plain": [
       "<xarray.DataArray (season: 4, latitude: 32, longitude: 64)>\n",
       "array([[[0.409067, 0.423871, ..., 0.366666, 0.387823],\n",
       "        [0.994202, 0.96018 , ..., 0.985736, 1.003692],\n",
       "        ...,\n",
       "        [0.285143, 0.246518, ..., 0.270044, 0.294   ],\n",
       "        [0.442059, 0.467324, ..., 0.398086, 0.421928]],\n",
       "\n",
       "       [[0.545564, 0.515096, ..., 0.602719, 0.57509 ],\n",
       "        [0.821064, 0.766431, ..., 0.988784, 0.888713],\n",
       "        ...,\n",
       "        [0.087343, 0.107843, ..., 0.080075, 0.078747],\n",
       "        [0.196159, 0.23054 , ..., 0.150407, 0.170456]],\n",
       "\n",
       "       [[0.60847 , 0.588672, ..., 0.640502, 0.624777],\n",
       "        [1.018189, 0.998922, ..., 1.242661, 1.11494 ],\n",
       "        ...,\n",
       "        [0.134398, 0.138322, ..., 0.172509, 0.150498],\n",
       "        [0.501982, 0.560648, ..., 0.410295, 0.453071]],\n",
       "\n",
       "       [[0.867036, 0.834836, ..., 0.922595, 0.899952],\n",
       "        [1.239765, 1.061073, ..., 1.712228, 1.466135],\n",
       "        ...,\n",
       "        [0.208808, 0.20983 , ..., 0.196096, 0.205054],\n",
       "        [0.172447, 0.190645, ..., 0.149866, 0.159512]]])\n",
       "Coordinates:\n",
       "  * longitude  (longitude) float64 0.0 5.625 11.25 16.88 ... 343.1 348.8 354.4\n",
       "  * latitude   (latitude) float64 85.76 80.27 74.74 ... -74.74 -80.27 -85.76\n",
       "  * season     (season) object 'DJF' 'JJA' 'MAM' 'SON'"
      ]
     },
     "execution_count": 5,
     "metadata": {},
     "output_type": "execute_result"
    }
   ],
   "source": [
    "sm = obrero.get_season_means(da)\n",
    "sm"
   ]
  },
  {
   "cell_type": "markdown",
   "metadata": {},
   "source": [
    "We see that this output array has no time coordinate, but instead has a `season` coordinate that contains the names of each season."
   ]
  }
 ],
 "metadata": {
  "kernelspec": {
   "display_name": "Python 3",
   "language": "python",
   "name": "python3"
  },
  "language_info": {
   "codemirror_mode": {
    "name": "ipython",
    "version": 3
   },
   "file_extension": ".py",
   "mimetype": "text/x-python",
   "name": "python",
   "nbconvert_exporter": "python",
   "pygments_lexer": "ipython3",
   "version": "3.6.0"
  }
 },
 "nbformat": 4,
 "nbformat_minor": 2
}
