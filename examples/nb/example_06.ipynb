{
 "cells": [
  {
   "cell_type": "markdown",
   "metadata": {},
   "source": [
    "# Calculating anomalies\n",
    "\n",
    "An anomaly is defined here as a deviation from the mean climatological variable. So it is basically taking the climatology of a data array and subtracting that from every value for each month. So for instance, for all regular values in the month of January, subtract the climatological value of January. Let's import obrero:"
   ]
  },
  {
   "cell_type": "code",
   "execution_count": 1,
   "metadata": {},
   "outputs": [],
   "source": [
    "# small hack to be able to import module without install\n",
    "import os\n",
    "import sys\n",
    "sys.path.append(os.getcwd() + '/../')\n",
    "\n",
    "import obrero"
   ]
  },
  {
   "cell_type": "markdown",
   "metadata": {},
   "source": [
    "Now we read some data:"
   ]
  },
  {
   "cell_type": "code",
   "execution_count": 2,
   "metadata": {},
   "outputs": [],
   "source": [
    "# read data\n",
    "fname = 'data/ctl.nc'\n",
    "\n",
    "# read as data array\n",
    "da = obrero.read_nc(fname, 'pr')\n",
    "\n",
    "# convert units\n",
    "da.convert_units('mm day-1')"
   ]
  },
  {
   "cell_type": "markdown",
   "metadata": {},
   "source": [
    "And now we use function `get_anomalies()` from obrero, which will calculate on its own the climatology of this data array and then subtract it accordingly:"
   ]
  },
  {
   "cell_type": "code",
   "execution_count": 4,
   "metadata": {},
   "outputs": [
    {
     "data": {
      "text/plain": [
       "<xarray.DataArray 'pr' (time: 72, latitude: 32, longitude: 64)>\n",
       "array([[[ 2.488081e-01,  2.897697e-01, ...,  1.556442e-01,  2.051333e-01],\n",
       "        [ 2.097602e-01,  3.038602e-01, ..., -1.502275e-03,  8.981353e-02],\n",
       "        ...,\n",
       "        [ 7.112414e-03, -8.162983e-02, ...,  1.498590e-01,  9.816079e-02],\n",
       "        [ 4.130304e-04,  4.299706e-02, ..., -2.850530e-02, -1.816028e-02]],\n",
       "\n",
       "       [[-1.765119e-01, -1.921865e-01, ..., -1.465302e-01, -1.614093e-01],\n",
       "        [ 5.478065e-01,  4.354060e-01, ...,  6.127802e-01,  6.240960e-01],\n",
       "        ...,\n",
       "        [-3.450335e-01, -3.019844e-01, ..., -2.971156e-01, -3.543785e-01],\n",
       "        [-3.188084e-01, -3.330962e-01, ..., -2.788016e-01, -3.062798e-01]],\n",
       "\n",
       "       ...,\n",
       "\n",
       "       [[-1.941830e-02,  6.810784e-03, ..., -1.029656e-01, -5.475831e-02],\n",
       "        [ 6.539496e-01,  4.877187e-01, ...,  9.802719e-01,  8.475666e-01],\n",
       "        ...,\n",
       "        [ 5.599831e-01,  6.695572e-01, ...,  2.114502e-01,  3.561684e-01],\n",
       "        [-1.437826e-01, -1.777853e-01, ..., -8.783433e-02, -1.155843e-01]],\n",
       "\n",
       "       [[ 2.219167e-01,  2.083110e-01, ...,  2.017168e-01,  2.199491e-01],\n",
       "        [ 4.627589e-01,  3.084300e-01, ...,  6.686697e-01,  6.155623e-01],\n",
       "        ...,\n",
       "        [ 2.363924e-01,  3.002070e-01, ...,  3.607661e-02,  1.302827e-01],\n",
       "        [-1.753659e-01, -1.970224e-01, ..., -1.451622e-01, -1.568514e-01]]],\n",
       "      dtype=float32)\n",
       "Coordinates:\n",
       "  * time       (time) object 2005-01-01 00:00:00 ... 2010-12-01 00:00:00\n",
       "  * longitude  (longitude) float64 0.0 5.625 11.25 16.88 ... 343.1 348.8 354.4\n",
       "  * latitude   (latitude) float64 85.76 80.27 74.74 ... -74.74 -80.27 -85.76\n",
       "Attributes:\n",
       "    standard_name:  total_precipitation\n",
       "    long_name:      total_precipitation\n",
       "    units:          mm day-1\n",
       "    code:           260"
      ]
     },
     "execution_count": 4,
     "metadata": {},
     "output_type": "execute_result"
    }
   ],
   "source": [
    "# get anomalies\n",
    "an = obrero.get_anomalies(da)\n",
    "an"
   ]
  },
  {
   "cell_type": "markdown",
   "metadata": {},
   "source": [
    "If you would rather use a different climatology than the one the data has, you can provide this to the function as a second optional argument:"
   ]
  },
  {
   "cell_type": "code",
   "execution_count": 5,
   "metadata": {},
   "outputs": [
    {
     "data": {
      "text/plain": [
       "<xarray.DataArray 'pr' (time: 72, latitude: 32, longitude: 64)>\n",
       "array([[[ 2.488081e-01,  2.897697e-01, ...,  1.556442e-01,  2.051333e-01],\n",
       "        [ 2.097602e-01,  3.038602e-01, ..., -1.502275e-03,  8.981353e-02],\n",
       "        ...,\n",
       "        [ 7.112414e-03, -8.162983e-02, ...,  1.498590e-01,  9.816079e-02],\n",
       "        [ 4.130304e-04,  4.299706e-02, ..., -2.850530e-02, -1.816028e-02]],\n",
       "\n",
       "       [[-1.765119e-01, -1.921865e-01, ..., -1.465302e-01, -1.614093e-01],\n",
       "        [ 5.478065e-01,  4.354060e-01, ...,  6.127802e-01,  6.240960e-01],\n",
       "        ...,\n",
       "        [-3.450335e-01, -3.019844e-01, ..., -2.971156e-01, -3.543785e-01],\n",
       "        [-3.188084e-01, -3.330962e-01, ..., -2.788016e-01, -3.062798e-01]],\n",
       "\n",
       "       ...,\n",
       "\n",
       "       [[-1.941830e-02,  6.810784e-03, ..., -1.029656e-01, -5.475831e-02],\n",
       "        [ 6.539496e-01,  4.877187e-01, ...,  9.802719e-01,  8.475666e-01],\n",
       "        ...,\n",
       "        [ 5.599831e-01,  6.695572e-01, ...,  2.114502e-01,  3.561684e-01],\n",
       "        [-1.437826e-01, -1.777853e-01, ..., -8.783433e-02, -1.155843e-01]],\n",
       "\n",
       "       [[ 2.219167e-01,  2.083110e-01, ...,  2.017168e-01,  2.199491e-01],\n",
       "        [ 4.627589e-01,  3.084300e-01, ...,  6.686697e-01,  6.155623e-01],\n",
       "        ...,\n",
       "        [ 2.363924e-01,  3.002070e-01, ...,  3.607661e-02,  1.302827e-01],\n",
       "        [-1.753659e-01, -1.970224e-01, ..., -1.451622e-01, -1.568514e-01]]],\n",
       "      dtype=float32)\n",
       "Coordinates:\n",
       "  * time       (time) object 2005-01-01 00:00:00 ... 2010-12-01 00:00:00\n",
       "  * longitude  (longitude) float64 0.0 5.625 11.25 16.88 ... 343.1 348.8 354.4\n",
       "  * latitude   (latitude) float64 85.76 80.27 74.74 ... -74.74 -80.27 -85.76\n",
       "Attributes:\n",
       "    standard_name:  total_precipitation\n",
       "    long_name:      total_precipitation\n",
       "    units:          mm day-1\n",
       "    code:           260"
      ]
     },
     "execution_count": 5,
     "metadata": {},
     "output_type": "execute_result"
    }
   ],
   "source": [
    "# get climatology\n",
    "ac = obrero.get_climatology(da)\n",
    "\n",
    "# get anomalies\n",
    "an = obrero.get_anomalies(da, ac)\n",
    "an"
   ]
  },
  {
   "cell_type": "markdown",
   "metadata": {},
   "source": [
    "You can see some values are negative and others are positive. These can only be anomalies since it would make no sense to have negative precipitation values."
   ]
  }
 ],
 "metadata": {
  "kernelspec": {
   "display_name": "Python 3",
   "language": "python",
   "name": "python3"
  },
  "language_info": {
   "codemirror_mode": {
    "name": "ipython",
    "version": 3
   },
   "file_extension": ".py",
   "mimetype": "text/x-python",
   "name": "python",
   "nbconvert_exporter": "python",
   "pygments_lexer": "ipython3",
   "version": "3.6.0"
  }
 },
 "nbformat": 4,
 "nbformat_minor": 2
}
