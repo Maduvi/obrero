{
 "cells": [
  {
   "cell_type": "markdown",
   "metadata": {},
   "source": [
    "# Read netCDF\n",
    "\n",
    "obrero comes with a small module that uses `xarray.open_dataset()` function to read netCDF files. But after it reads the netCDF file, it will make sure its coordinates are named `latitude`, `longitude` and `level`, to be able to keep consistency everywhere else with other obrero code. Aditionally it adds a new bound method to the xarray's `DataArray` class: `.convert_units()`, which uses cf-units module to convert units when possible. So let's first import obrero:"
   ]
  },
  {
   "cell_type": "code",
   "execution_count": 1,
   "metadata": {},
   "outputs": [],
   "source": [
    "# small hack to be able to import module without install\n",
    "import os\n",
    "import sys\n",
    "sys.path.append(os.getcwd() + '/../')\n",
    "\n",
    "import obrero"
   ]
  },
  {
   "cell_type": "markdown",
   "metadata": {},
   "source": [
    "Now we can simply read the netCDF file using function `obrero.read_nc()`:"
   ]
  },
  {
   "cell_type": "code",
   "execution_count": 5,
   "metadata": {},
   "outputs": [],
   "source": [
    "# read data\n",
    "fname = 'data/ctl.nc'\n",
    "\n",
    "# read as data array\n",
    "ds = obrero.read_nc(fname)"
   ]
  },
  {
   "cell_type": "markdown",
   "metadata": {},
   "source": [
    "Depending on the contents of the netCDF file `da` will be a `DataArray` (single variable) or `Dataset` (multiple variables). In this case we can see the object contains several arrays, one for each variable:"
   ]
  },
  {
   "cell_type": "code",
   "execution_count": 6,
   "metadata": {},
   "outputs": [
    {
     "data": {
      "text/plain": [
       "<xarray.Dataset>\n",
       "Dimensions:    (latitude: 32, longitude: 64, time: 72)\n",
       "Coordinates:\n",
       "  * time       (time) object 2005-01-01 00:00:00 ... 2010-12-01 00:00:00\n",
       "  * longitude  (longitude) float64 0.0 5.625 11.25 16.88 ... 343.1 348.8 354.4\n",
       "  * latitude   (latitude) float64 85.76 80.27 74.74 ... -74.74 -80.27 -85.76\n",
       "Data variables:\n",
       "    tas        (time, latitude, longitude) float32 ...\n",
       "    pr         (time, latitude, longitude) float32 ...\n",
       "    gpp        (time, latitude, longitude) float32 ...\n",
       "Attributes:\n",
       "    CDI:          Climate Data Interface version 1.9.6 (http://mpimet.mpg.de/...\n",
       "    Conventions:  CF-1.0\n",
       "    history:      Mon Jun 10 21:34:13 2019: cdo selvar,tas,gpp,pr ctl.nc ctl2...\n",
       "    title:        PUMA/PLASIM DATA\n",
       "    CDO:          Climate Data Operators version 1.9.6 (http://mpimet.mpg.de/..."
      ]
     },
     "execution_count": 6,
     "metadata": {},
     "output_type": "execute_result"
    }
   ],
   "source": [
    "ds"
   ]
  },
  {
   "cell_type": "markdown",
   "metadata": {},
   "source": [
    "If we want a single variable, we can put this inside the function call next to the file name string:"
   ]
  },
  {
   "cell_type": "code",
   "execution_count": 8,
   "metadata": {},
   "outputs": [
    {
     "data": {
      "text/plain": [
       "<xarray.DataArray 'pr' (time: 72, latitude: 32, longitude: 64)>\n",
       "[147456 values with dtype=float32]\n",
       "Coordinates:\n",
       "  * time       (time) object 2005-01-01 00:00:00 ... 2010-12-01 00:00:00\n",
       "  * longitude  (longitude) float64 0.0 5.625 11.25 16.88 ... 343.1 348.8 354.4\n",
       "  * latitude   (latitude) float64 85.76 80.27 74.74 ... -74.74 -80.27 -85.76\n",
       "Attributes:\n",
       "    standard_name:  total_precipitation\n",
       "    long_name:      total_precipitation\n",
       "    units:          m s-1\n",
       "    code:           260"
      ]
     },
     "execution_count": 8,
     "metadata": {},
     "output_type": "execute_result"
    }
   ],
   "source": [
    "# read as data array\n",
    "da = obrero.read_nc(fname, 'pr')\n",
    "da"
   ]
  },
  {
   "cell_type": "markdown",
   "metadata": {},
   "source": [
    "We can even select several variables using a list object:"
   ]
  },
  {
   "cell_type": "code",
   "execution_count": 9,
   "metadata": {},
   "outputs": [
    {
     "data": {
      "text/plain": [
       "<xarray.Dataset>\n",
       "Dimensions:    (latitude: 32, longitude: 64, time: 72)\n",
       "Coordinates:\n",
       "  * time       (time) object 2005-01-01 00:00:00 ... 2010-12-01 00:00:00\n",
       "  * longitude  (longitude) float64 0.0 5.625 11.25 16.88 ... 343.1 348.8 354.4\n",
       "  * latitude   (latitude) float64 85.76 80.27 74.74 ... -74.74 -80.27 -85.76\n",
       "Data variables:\n",
       "    pr         (time, latitude, longitude) float32 ...\n",
       "    tas        (time, latitude, longitude) float32 ..."
      ]
     },
     "execution_count": 9,
     "metadata": {},
     "output_type": "execute_result"
    }
   ],
   "source": [
    "# read as data array\n",
    "ds2 = obrero.read_nc(fname, ['pr', 'tas'])\n",
    "ds2"
   ]
  }
 ],
 "metadata": {
  "kernelspec": {
   "display_name": "Python 3",
   "language": "python",
   "name": "python3"
  },
  "language_info": {
   "codemirror_mode": {
    "name": "ipython",
    "version": 3
   },
   "file_extension": ".py",
   "mimetype": "text/x-python",
   "name": "python",
   "nbconvert_exporter": "python",
   "pygments_lexer": "ipython3",
   "version": "3.6.0"
  }
 },
 "nbformat": 4,
 "nbformat_minor": 2
}
