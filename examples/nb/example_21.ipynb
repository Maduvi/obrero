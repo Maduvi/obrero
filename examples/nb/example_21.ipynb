{
 "cells": [
  {
   "cell_type": "markdown",
   "metadata": {},
   "source": [
    "# Calculating zonal means\n",
    "\n",
    "Zonal mean profiles are very useful. Simply you take the average of all longitudes and you end up with values for every latitude. In obrero we have a function to calculate this quantity. Let's import obrero:"
   ]
  },
  {
   "cell_type": "code",
   "execution_count": 1,
   "metadata": {},
   "outputs": [],
   "source": [
    "# small hack to be able to import module without install\n",
    "import os\n",
    "import sys\n",
    "sys.path.append(os.getcwd() + '/../')\n",
    "\n",
    "import obrero"
   ]
  },
  {
   "cell_type": "markdown",
   "metadata": {},
   "source": [
    "Now we read some data:"
   ]
  },
  {
   "cell_type": "code",
   "execution_count": 2,
   "metadata": {},
   "outputs": [],
   "source": [
    "# file name\n",
    "f1 = 'data/ctl.nc'\n",
    "\n",
    "# read as data array\n",
    "da = obrero.read_nc(f1, 'pr')\n",
    "\n",
    "# convert units\n",
    "da.convert_units('mm day-1')"
   ]
  },
  {
   "cell_type": "markdown",
   "metadata": {},
   "source": [
    "To get the zonal mean, we could simply use xarray objects' methods, or we can use a small function we have in obrero. This function is only to save us some coding. It does not much, but it does have the keyword `time_mean` which is a boolean object (true or false) in case the user wants to also average along the time axis. Let's get the zonal means without averaging timewise:"
   ]
  },
  {
   "cell_type": "code",
   "execution_count": 3,
   "metadata": {},
   "outputs": [
    {
     "data": {
      "text/plain": [
       "<xarray.DataArray 'pr' (time: 72, latitude: 32)>\n",
       "array([[0.421461, 0.456668, 0.939123, ..., 0.619982, 0.416782, 0.578915],\n",
       "       [0.200122, 0.569613, 1.163758, ..., 0.617909, 0.190883, 0.934619],\n",
       "       [0.692139, 0.439506, 0.519977, ..., 0.80996 , 0.359521, 1.267983],\n",
       "       ...,\n",
       "       [1.278668, 0.992619, 0.921124, ..., 0.396036, 0.336399, 0.417903],\n",
       "       [0.419306, 0.873802, 1.404822, ..., 0.908595, 0.621621, 0.228513],\n",
       "       [0.637905, 0.658487, 0.949213, ..., 1.004227, 0.553419, 0.290767]],\n",
       "      dtype=float32)\n",
       "Coordinates:\n",
       "  * time      (time) object 2005-01-01 00:00:00 ... 2010-12-01 00:00:00\n",
       "  * latitude  (latitude) float64 85.76 80.27 74.74 ... -74.74 -80.27 -85.76\n",
       "Attributes:\n",
       "    standard_name:  total_precipitation\n",
       "    long_name:      total_precipitation\n",
       "    units:          mm day-1\n",
       "    code:           260"
      ]
     },
     "execution_count": 3,
     "metadata": {},
     "output_type": "execute_result"
    }
   ],
   "source": [
    "zm = obrero.get_zonal_means(da)\n",
    "zm"
   ]
  },
  {
   "cell_type": "markdown",
   "metadata": {},
   "source": [
    "We see that we have values for every latitude and time. In case we wanted a single zonal mean profile:"
   ]
  },
  {
   "cell_type": "code",
   "execution_count": 4,
   "metadata": {},
   "outputs": [
    {
     "data": {
      "text/plain": [
       "<xarray.DataArray 'pr' (latitude: 32)>\n",
       "array([0.694918, 0.782554, 1.034458, 1.586653, 2.146629, 2.481465, 2.509852,\n",
       "       2.443587, 2.313014, 2.209716, 2.270461, 2.397924, 2.90228 , 3.852706,\n",
       "       4.575459, 5.175932, 5.1249  , 4.130602, 3.277799, 2.833432, 2.364152,\n",
       "       2.089811, 2.231238, 2.71634 , 3.087145, 2.91713 , 1.804581, 1.417451,\n",
       "       1.437023, 0.65069 , 0.385693, 0.537117], dtype=float32)\n",
       "Coordinates:\n",
       "  * latitude  (latitude) float64 85.76 80.27 74.74 ... -74.74 -80.27 -85.76\n",
       "Attributes:\n",
       "    standard_name:  total_precipitation\n",
       "    long_name:      total_precipitation\n",
       "    units:          mm day-1\n",
       "    code:           260"
      ]
     },
     "execution_count": 4,
     "metadata": {},
     "output_type": "execute_result"
    }
   ],
   "source": [
    "zm = obrero.get_zonal_means(da, time_mean=True)\n",
    "zm"
   ]
  },
  {
   "cell_type": "markdown",
   "metadata": {},
   "source": [
    "We got only 32 values, one for every latitude. This is a zonal mean profile."
   ]
  }
 ],
 "metadata": {
  "kernelspec": {
   "display_name": "Python 3",
   "language": "python",
   "name": "python3"
  },
  "language_info": {
   "codemirror_mode": {
    "name": "ipython",
    "version": 3
   },
   "file_extension": ".py",
   "mimetype": "text/x-python",
   "name": "python",
   "nbconvert_exporter": "python",
   "pygments_lexer": "ipython3",
   "version": "3.6.0"
  }
 },
 "nbformat": 4,
 "nbformat_minor": 2
}
