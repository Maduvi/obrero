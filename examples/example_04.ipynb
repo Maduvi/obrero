{
 "cells": [
  {
   "cell_type": "markdown",
   "metadata": {},
   "source": [
    "# Calculate an area average\n",
    "\n",
    "We have all been there. We have some netCDF file with some 3D data and we want to obtain a time series for some region of interest. In order to this we need to first select data within that region of interest and then average spatially for those gridpoints, leaving only the time coordinate, thus obtaining a time series. So let's see how to do this with the help of obrero. First we import the module using a little hack so that there is no need to install:"
   ]
  },
  {
   "cell_type": "code",
   "execution_count": 8,
   "metadata": {},
   "outputs": [],
   "source": [
    "# small hack to be able to import module without install\n",
    "import os\n",
    "import sys\n",
    "sys.path.append(os.getcwd() + '/../')\n",
    "\n",
    "import obrero"
   ]
  },
  {
   "cell_type": "markdown",
   "metadata": {},
   "source": [
    "After this we go ahead and read the data we want to work with. In this case we will use total precipitation from some global simulation:"
   ]
  },
  {
   "cell_type": "code",
   "execution_count": 2,
   "metadata": {},
   "outputs": [],
   "source": [
    "# read data\n",
    "fname = 'data/ctl.nc'\n",
    "\n",
    "# read as data array\n",
    "da = obrero.read_nc(fname, 'pr')\n",
    "\n",
    "# convert units\n",
    "da.convert_units('mm day-1')"
   ]
  },
  {
   "cell_type": "markdown",
   "metadata": {},
   "source": [
    "Now we select our region of interest. Let's assume we are interested in the Niño 3.4 region. So we will select data only within this rectangular region:"
   ]
  },
  {
   "cell_type": "code",
   "execution_count": 3,
   "metadata": {},
   "outputs": [],
   "source": [
    "nino = obrero.get_rectreg(da, [190, 240, 5, -5])"
   ]
  },
  {
   "cell_type": "markdown",
   "metadata": {},
   "source": [
    "Now we have function `area_average()` in obrero which will help us with this average. It can use three different methods to create weights for the averaging. Since we generally use a geographical coordinate system that \"sees\" Earth as a sphere, we must account for changes in latitude: closer to the Equator, latitude differentials cover more surface area than away from the Equator. So we \"fix\" this using weights, which give values in the Equator a bit more \"importance\" (for lack of a better word) in calculations. To obtain such weights there are several methods. In obrero we have three implemented: area weights in which we use horizontal resolution and compute areas, weights based on the cosine of latitude, and weights based on Legendre polynomials which should only be used for global data (not our case after selecting El Niño region): "
   ]
  },
  {
   "cell_type": "code",
   "execution_count": 9,
   "metadata": {},
   "outputs": [
    {
     "data": {
      "text/plain": [
       "<xarray.DataArray 'pr' (time: 72)>\n",
       "array([4.111006, 4.669204, 6.004548, 6.121478, 6.862779, 7.400464, 4.945559,\n",
       "       3.784494, 2.643294, 2.962779, 2.014716, 3.007065, 3.433668, 2.309295,\n",
       "       3.724787, 6.047472, 7.034015, 6.926034, 4.806636, 5.656323, 3.495875,\n",
       "       4.487949, 4.298277, 4.459014, 3.719455, 4.600055, 4.88763 , 5.760084,\n",
       "       5.03127 , 6.069615, 4.877029, 3.45496 , 2.519189, 1.868108, 1.915345,\n",
       "       1.71405 , 1.819588, 2.136783, 3.51187 , 4.243024, 6.005003, 5.507965,\n",
       "       4.392303, 3.449283, 3.003288, 3.486228, 2.346534, 2.594522, 3.389536,\n",
       "       2.88825 , 4.76435 , 5.048289, 5.868142, 6.771243, 6.115101, 4.763498,\n",
       "       4.654419, 5.172051, 3.178175, 5.201016, 6.360526, 6.156889, 5.696703,\n",
       "       6.223886, 6.494055, 4.06661 , 3.114381, 2.4904  , 1.350258, 1.709204,\n",
       "       2.411216, 2.895138])\n",
       "Coordinates:\n",
       "  * time     (time) object 2005-01-01 00:00:00 ... 2010-12-01 00:00:00\n",
       "Attributes:\n",
       "    standard_name:  total_precipitation\n",
       "    long_name:      total_precipitation\n",
       "    units:          mm day-1\n",
       "    code:           260"
      ]
     },
     "execution_count": 9,
     "metadata": {},
     "output_type": "execute_result"
    }
   ],
   "source": [
    "# get area average\n",
    "am = obrero.area_average(nino, method='area')\n",
    "am"
   ]
  },
  {
   "cell_type": "code",
   "execution_count": 10,
   "metadata": {},
   "outputs": [
    {
     "data": {
      "text/plain": [
       "<xarray.DataArray 'pr' (time: 72)>\n",
       "array([4.111006, 4.669204, 6.004548, 6.121478, 6.862779, 7.400464, 4.945559,\n",
       "       3.784494, 2.643294, 2.962779, 2.014716, 3.007065, 3.433668, 2.309295,\n",
       "       3.724787, 6.047472, 7.034015, 6.926034, 4.806636, 5.656323, 3.495875,\n",
       "       4.487949, 4.298277, 4.459014, 3.719455, 4.600055, 4.88763 , 5.760084,\n",
       "       5.03127 , 6.069615, 4.877029, 3.45496 , 2.519189, 1.868108, 1.915345,\n",
       "       1.71405 , 1.819588, 2.136783, 3.51187 , 4.243024, 6.005003, 5.507965,\n",
       "       4.392303, 3.449283, 3.003288, 3.486228, 2.346534, 2.594522, 3.389536,\n",
       "       2.88825 , 4.76435 , 5.048289, 5.868142, 6.771243, 6.115101, 4.763498,\n",
       "       4.654419, 5.172051, 3.178175, 5.201016, 6.360526, 6.156889, 5.696703,\n",
       "       6.223886, 6.494055, 4.06661 , 3.114381, 2.4904  , 1.350258, 1.709204,\n",
       "       2.411216, 2.895138])\n",
       "Coordinates:\n",
       "  * time     (time) object 2005-01-01 00:00:00 ... 2010-12-01 00:00:00\n",
       "Attributes:\n",
       "    standard_name:  total_precipitation\n",
       "    long_name:      total_precipitation\n",
       "    units:          mm day-1\n",
       "    code:           260"
      ]
     },
     "execution_count": 10,
     "metadata": {},
     "output_type": "execute_result"
    }
   ],
   "source": [
    "# get area average\n",
    "am = obrero.area_average(nino, method='coslat')\n",
    "am"
   ]
  },
  {
   "cell_type": "markdown",
   "metadata": {},
   "source": [
    "Both methods seem equivalent in this case. Let's keep in mind that the data we are using only contains 2 latitudes in the region of interest."
   ]
  }
 ],
 "metadata": {
  "kernelspec": {
   "display_name": "Python 3",
   "language": "python",
   "name": "python3"
  },
  "language_info": {
   "codemirror_mode": {
    "name": "ipython",
    "version": 3
   },
   "file_extension": ".py",
   "mimetype": "text/x-python",
   "name": "python",
   "nbconvert_exporter": "python",
   "pygments_lexer": "ipython3",
   "version": "3.6.0"
  }
 },
 "nbformat": 4,
 "nbformat_minor": 2
}
