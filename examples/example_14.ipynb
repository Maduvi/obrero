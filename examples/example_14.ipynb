{
 "cells": [
  {
   "cell_type": "markdown",
   "metadata": {},
   "source": [
    "# Calculating wind speed\n",
    "\n",
    "This is a simple enough operation that does not really need a function. But we have created one nonetheless. Let's import obrero and see how it works:"
   ]
  },
  {
   "cell_type": "code",
   "execution_count": 1,
   "metadata": {},
   "outputs": [],
   "source": [
    "# small hack to be able to import module without install\n",
    "import os\n",
    "import sys\n",
    "sys.path.append(os.getcwd() + '/../')\n",
    "\n",
    "import obrero"
   ]
  },
  {
   "cell_type": "markdown",
   "metadata": {},
   "source": [
    "Now we read some data from an experiment. This file contains wind speed calculated elsewhere to test that this small function works:"
   ]
  },
  {
   "cell_type": "code",
   "execution_count": 2,
   "metadata": {},
   "outputs": [
    {
     "data": {
      "text/plain": [
       "<xarray.Dataset>\n",
       "Dimensions:    (latitude: 32, level: 10, longitude: 64, time: 24)\n",
       "Coordinates:\n",
       "  * time       (time) object 2009-01-01 00:00:00 ... 2010-12-01 00:00:00\n",
       "  * longitude  (longitude) float64 0.0 5.625 11.25 16.88 ... 343.1 348.8 354.4\n",
       "  * latitude   (latitude) float64 85.76 80.27 74.74 ... -74.74 -80.27 -85.76\n",
       "  * level      (level) float64 50.0 100.0 200.0 300.0 ... 700.0 850.0 1e+03\n",
       "Data variables:\n",
       "    ua         (time, level, latitude, longitude) float32 ...\n",
       "    va         (time, level, latitude, longitude) float32 ...\n",
       "    spd        (time, level, latitude, longitude) float32 ...\n",
       "Attributes:\n",
       "    CDI:          Climate Data Interface version 1.9.6 (http://mpimet.mpg.de/...\n",
       "    Conventions:  CF-1.0\n",
       "    history:      Mon Jun 10 21:33:21 2019: cdo selyear,2009/2010 ctl_winds.n...\n",
       "    title:        PUMA/PLASIM DATA\n",
       "    CDO:          Climate Data Operators version 1.9.6 (http://mpimet.mpg.de/..."
      ]
     },
     "execution_count": 2,
     "metadata": {},
     "output_type": "execute_result"
    }
   ],
   "source": [
    "# read data\n",
    "fname = 'data/ctl_winds.nc'\n",
    "\n",
    "# read as data array\n",
    "da = obrero.read_nc(fname)\n",
    "da"
   ]
  },
  {
   "cell_type": "markdown",
   "metadata": {},
   "source": [
    "We use function `get_wind_speed()` from the `obrero.analysis` module:"
   ]
  },
  {
   "cell_type": "code",
   "execution_count": 3,
   "metadata": {},
   "outputs": [
    {
     "data": {
      "text/plain": [
       "<xarray.DataArray 'spd' (time: 24, level: 10, latitude: 32, longitude: 64)>\n",
       "array([[[[ 9.953791, ..., 10.208732],\n",
       "         ...,\n",
       "         [ 1.475743, ...,  1.454603]],\n",
       "\n",
       "        ...,\n",
       "\n",
       "        [[ 5.183846, ...,  5.133784],\n",
       "         ...,\n",
       "         [ 4.025389, ...,  3.784965]]],\n",
       "\n",
       "\n",
       "       ...,\n",
       "\n",
       "\n",
       "       [[[ 8.779093, ...,  8.675641],\n",
       "         ...,\n",
       "         [ 4.065468, ...,  4.205904]],\n",
       "\n",
       "        ...,\n",
       "\n",
       "        [[ 1.377178, ...,  1.158777],\n",
       "         ...,\n",
       "         [ 5.090126, ...,  4.901376]]]], dtype=float32)\n",
       "Coordinates:\n",
       "  * time       (time) object 2009-01-01 00:00:00 ... 2010-12-01 00:00:00\n",
       "  * longitude  (longitude) float64 0.0 5.625 11.25 16.88 ... 343.1 348.8 354.4\n",
       "  * latitude   (latitude) float64 85.76 80.27 74.74 ... -74.74 -80.27 -85.76\n",
       "  * level      (level) float64 50.0 100.0 200.0 300.0 ... 700.0 850.0 1e+03\n",
       "Attributes:\n",
       "    standard_name:  wind_speed\n",
       "    long_name:      wind speed\n",
       "    units:          m s-1\n",
       "    code:           131"
      ]
     },
     "execution_count": 3,
     "metadata": {},
     "output_type": "execute_result"
    }
   ],
   "source": [
    "spd = obrero.get_wind_speed(da['ua'], da['va'])\n",
    "spd"
   ]
  }
 ],
 "metadata": {
  "kernelspec": {
   "display_name": "Python 3",
   "language": "python",
   "name": "python3"
  },
  "language_info": {
   "codemirror_mode": {
    "name": "ipython",
    "version": 3
   },
   "file_extension": ".py",
   "mimetype": "text/x-python",
   "name": "python",
   "nbconvert_exporter": "python",
   "pygments_lexer": "ipython3",
   "version": "3.6.0"
  }
 },
 "nbformat": 4,
 "nbformat_minor": 2
}
