{
 "cells": [
  {
   "cell_type": "markdown",
   "metadata": {},
   "source": [
    "# Plotting zonal means\n",
    "\n",
    "In obrero we have created a small little function that will take care of most things when plotting zonal mean line plots. Let's import the library:"
   ]
  },
  {
   "cell_type": "code",
   "execution_count": 1,
   "metadata": {},
   "outputs": [],
   "source": [
    "# small hack to be able to import module without install\n",
    "import os\n",
    "import sys\n",
    "sys.path.append(os.getcwd() + '/../')\n",
    "\n",
    "import obrero\n",
    "import obrero.plot as oplot"
   ]
  },
  {
   "cell_type": "markdown",
   "metadata": {},
   "source": [
    "Now we read some data:"
   ]
  },
  {
   "cell_type": "code",
   "execution_count": 2,
   "metadata": {},
   "outputs": [],
   "source": [
    "# file name\n",
    "f1 = 'data/ctl.nc'\n",
    "\n",
    "# read as data array\n",
    "da = obrero.read_nc(f1, 'pr')\n",
    "\n",
    "# convert units\n",
    "da.convert_units('mm day-1')"
   ]
  },
  {
   "cell_type": "markdown",
   "metadata": {},
   "source": [
    "We calculate the zonal mean using also obrero functions. In this case this data set has multiple times, so we will average them all to have a single zonal mean:"
   ]
  },
  {
   "cell_type": "code",
   "execution_count": 3,
   "metadata": {},
   "outputs": [
    {
     "data": {
      "text/plain": [
       "<xarray.DataArray 'pr' (latitude: 32)>\n",
       "array([0.694918, 0.782554, 1.034458, 1.586653, 2.146629, 2.481465, 2.509852,\n",
       "       2.443587, 2.313014, 2.209716, 2.270461, 2.397924, 2.90228 , 3.852706,\n",
       "       4.575459, 5.175932, 5.1249  , 4.130602, 3.277799, 2.833432, 2.364152,\n",
       "       2.089811, 2.231238, 2.71634 , 3.087145, 2.91713 , 1.804581, 1.417451,\n",
       "       1.437023, 0.65069 , 0.385693, 0.537117], dtype=float32)\n",
       "Coordinates:\n",
       "  * latitude  (latitude) float64 85.76 80.27 74.74 ... -74.74 -80.27 -85.76\n",
       "Attributes:\n",
       "    standard_name:  total_precipitation\n",
       "    long_name:      total_precipitation\n",
       "    units:          mm day-1\n",
       "    code:           260"
      ]
     },
     "execution_count": 3,
     "metadata": {},
     "output_type": "execute_result"
    }
   ],
   "source": [
    "zm = obrero.get_zonal_means(da, time_mean=True)\n",
    "zm"
   ]
  },
  {
   "cell_type": "markdown",
   "metadata": {},
   "source": [
    "This is a simple line plot, but obrero will take care of the axes creation and labeling and all that fun stuff. The function is called `plot_zonal_mean()` and is part of the `obrero.plot` module. We can specify a line style using a dictionary:"
   ]
  },
  {
   "cell_type": "code",
   "execution_count": 6,
   "metadata": {},
   "outputs": [
    {
     "data": {
      "image/png": "[encoded data removed]",
      "text/plain": [
       "<matplotlib.figure.Figure at 0x7fa4e91d6780>"
      ]
     },
     "metadata": {
      "needs_background": "light"
     },
     "output_type": "display_data"
    }
   ],
   "source": [
    "%matplotlib inline\n",
    "sty = dict(linestyle='-', color='DodgerBlue', linewidth=1.0, label='CTL')\n",
    "spec = dict(style=sty, ylabel=r'Precipitation (mm day$^{-1}$)', wmm=80, hmm=80)\n",
    "ax = oplot.plot_zonal_mean(zm, **spec)"
   ]
  },
  {
   "cell_type": "markdown",
   "metadata": {},
   "source": [
    "If we had several lines we want to plot in the same axes, we must use lists for both data and styles. So let's read more data and compare:"
   ]
  },
  {
   "cell_type": "code",
   "execution_count": 10,
   "metadata": {},
   "outputs": [],
   "source": [
    "# file name\n",
    "f2 = 'data/gpcp_t21.nc'\n",
    "\n",
    "# read as data array\n",
    "da = obrero.read_nc(f2, 'tp')\n",
    "\n",
    "# zonal mean\n",
    "zm2 = obrero.get_zonal_means(da, time_mean=True)"
   ]
  },
  {
   "cell_type": "code",
   "execution_count": 12,
   "metadata": {},
   "outputs": [
    {
     "data": {
      "image/png": "[encoded data removed]",
      "text/plain": [
       "<matplotlib.figure.Figure at 0x7fa4e9094198>"
      ]
     },
     "metadata": {
      "needs_background": "light"
     },
     "output_type": "display_data"
    }
   ],
   "source": [
    "sty2 = dict(linestyle='--', color='OrangeRed', linewidth=1.0, label='GPCP')\n",
    "spec2 = dict(style=[sty, sty2], ylabel=r'Precipitation (mm day$^{-1}$)', wmm=80, hmm=80)\n",
    "ax2 = oplot.plot_zonal_mean([zm, zm2], **spec2)"
   ]
  }
 ],
 "metadata": {
  "kernelspec": {
   "display_name": "Python 3",
   "language": "python",
   "name": "python3"
  },
  "language_info": {
   "codemirror_mode": {
    "name": "ipython",
    "version": 3
   },
   "file_extension": ".py",
   "mimetype": "text/x-python",
   "name": "python",
   "nbconvert_exporter": "python",
   "pygments_lexer": "ipython3",
   "version": "3.6.0"
  }
 },
 "nbformat": 4,
 "nbformat_minor": 2
}
