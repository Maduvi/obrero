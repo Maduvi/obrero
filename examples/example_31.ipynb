{
 "cells": [
  {
   "cell_type": "markdown",
   "metadata": {},
   "source": [
    "# Plotting a pressure versus latitude contour: panels\n",
    "\n",
    "We have plotted pressure versus latitude in previous examples. We can also do this using panels for different quantities or experiments. Let's import obrero:"
   ]
  },
  {
   "cell_type": "code",
   "execution_count": 1,
   "metadata": {},
   "outputs": [],
   "source": [
    "# small hack to be able to import module without install\n",
    "import os\n",
    "import sys\n",
    "sys.path.append(os.getcwd() + '/../')\n",
    "\n",
    "import obrero\n",
    "import obrero.plot as oplot"
   ]
  },
  {
   "cell_type": "markdown",
   "metadata": {},
   "source": [
    "And we read some data:"
   ]
  },
  {
   "cell_type": "code",
   "execution_count": 3,
   "metadata": {},
   "outputs": [],
   "source": [
    "# file name\n",
    "f1 = 'data/ctl_winds.nc'\n",
    "\n",
    "# read as data array\n",
    "da = obrero.read_nc(f1, 'ua')\n",
    "db = obrero.read_nc(f1, 'va')"
   ]
  },
  {
   "cell_type": "markdown",
   "metadata": {},
   "source": [
    "Then we get the zonal means:"
   ]
  },
  {
   "cell_type": "code",
   "execution_count": 4,
   "metadata": {},
   "outputs": [],
   "source": [
    "zm1 = obrero.get_zonal_means(da, time_mean=True)\n",
    "zm2 = obrero.get_zonal_means(db, time_mean=True)"
   ]
  },
  {
   "cell_type": "markdown",
   "metadata": {},
   "source": [
    "And now we use the function `panel_pressure_latitude()` in the `obrero.plot` module. Keywords are very similar to those used in other panel plots in obrero:"
   ]
  },
  {
   "cell_type": "code",
   "execution_count": 6,
   "metadata": {},
   "outputs": [
    {
     "data": {
      "image/png": "[encoded data removed]",
      "text/plain": [
       "<matplotlib.figure.Figure at 0x7f3e292ff0f0>"
      ]
     },
     "metadata": {
      "needs_background": "light"
     },
     "output_type": "display_data"
    }
   ],
   "source": [
    "# data list\n",
    "dlist = [zm1, zm2]\n",
    "\n",
    "# specifications and list\n",
    "spec1 = dict(minv=-30, maxv=30, nlevels=11, extend='both', cm='coolwarm', cbstring=r'Zonal wind (m s$^{-1}$)', \n",
    "             title='CTL', xlim=[-85, 85])\n",
    "spec2 = dict(minv=-1, maxv=1, nlevels=11, extend='both', cm='coolwarm', cbstring=r'Meridional wind (m s$^{-1}$)', \n",
    "             title='CTL', xlim=[-85, 85])\n",
    "slist = [spec1, spec2]\n",
    "\n",
    "# plot\n",
    "%matplotlib inline\n",
    "fig = oplot.panel_pressure_latitude(dlist, slist)"
   ]
  }
 ],
 "metadata": {
  "kernelspec": {
   "display_name": "Python 3",
   "language": "python",
   "name": "python3"
  },
  "language_info": {
   "codemirror_mode": {
    "name": "ipython",
    "version": 3
   },
   "file_extension": ".py",
   "mimetype": "text/x-python",
   "name": "python",
   "nbconvert_exporter": "python",
   "pygments_lexer": "ipython3",
   "version": "3.6.0"
  }
 },
 "nbformat": 4,
 "nbformat_minor": 2
}
