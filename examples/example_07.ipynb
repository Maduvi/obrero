{
 "cells": [
  {
   "cell_type": "markdown",
   "metadata": {},
   "source": [
    "# Masking land or ocean values\n",
    "\n",
    "Sometimes we deal with variables that do not necessarily make sense to plot on the ocean. For instance primary productivity is none on the ocean in the models we work with. So instead of showing a value of 0 for the ocean gridpoints, we can simply alltogether mask those points out and not show them. Or sometimes we have sea surface temperature (SST) fields that also have values on land simply because the model needs to have values everywhere. It will itself mask them out later. So in that case we should simply mask out the land values because they are not meaningful.\n",
    "So let's do this with obrero. First import the module:"
   ]
  },
  {
   "cell_type": "code",
   "execution_count": 1,
   "metadata": {},
   "outputs": [],
   "source": [
    "# small hack to be able to import module without install\n",
    "import os\n",
    "import sys\n",
    "sys.path.append(os.getcwd() + '/../')\n",
    "\n",
    "import obrero"
   ]
  },
  {
   "cell_type": "markdown",
   "metadata": {},
   "source": [
    "Now read some data. To know where land and ocean are, we generally use a \"land binary mask\", that is an array that has 0 values for ocean gridpoints and 1 values for land gridpoints. Hence the binary part. So we need to get this mask from somewhere. We have one in our sample data kit. It goes without saying that all these different arrays should have the same spatial extent (same latitude and longitude). Though they can have different times, since usually the land mask does not vary in time. Let's assume we are interested in studying precipitation on the ocean and on land separately, so let's read precipitation and convert units:"
   ]
  },
  {
   "cell_type": "code",
   "execution_count": 3,
   "metadata": {},
   "outputs": [],
   "source": [
    "# read data\n",
    "fname = 'data/ctl.nc'\n",
    "lname = 'data/lsm.nc'\n",
    "\n",
    "# read as datarray\n",
    "da = obrero.read_nc(fname, 'pr')\n",
    "lm = obrero.read_nc(lname, 'lsm')\n",
    "\n",
    "# convert units\n",
    "da.convert_units('mm day-1')"
   ]
  },
  {
   "cell_type": "markdown",
   "metadata": {},
   "source": [
    "Now we use the function `mask_land_ocean()` in obrero to get values on either land or ocean. To choose we have a simple boolean flag as third optional argument. It will by default always mask out ocean values: "
   ]
  },
  {
   "cell_type": "code",
   "execution_count": 5,
   "metadata": {},
   "outputs": [
    {
     "data": {
      "text/plain": [
       "<xarray.DataArray 'pr' (time: 72, latitude: 32, longitude: 64)>\n",
       "array([[[0.70923 , 0.777796, ..., 0.540069, 0.629775],\n",
       "        [0.974657, 1.099068, ..., 0.706435, 0.826919],\n",
       "        ...,\n",
       "        [     nan,      nan, ...,      nan,      nan],\n",
       "        [     nan,      nan, ...,      nan,      nan]],\n",
       "\n",
       "       [[0.186415, 0.181961, ..., 0.169736, 0.178863],\n",
       "        [1.689129, 1.527837, ..., 1.74003 , 1.793405],\n",
       "        ...,\n",
       "        [     nan,      nan, ...,      nan,      nan],\n",
       "        [     nan,      nan, ...,      nan,      nan]],\n",
       "\n",
       "       ...,\n",
       "\n",
       "       [[0.555498, 0.599123, ..., 0.43743 , 0.504916],\n",
       "        [1.976995, 1.71042 , ..., 2.458799, 2.274632],\n",
       "        ...,\n",
       "        [     nan,      nan, ...,      nan,      nan],\n",
       "        [     nan,      nan, ...,      nan,      nan]],\n",
       "\n",
       "       [[0.625771, 0.617749, ..., 0.601025, 0.618503],\n",
       "        [1.539145, 1.30133 , ..., 1.79069 , 1.720224],\n",
       "        ...,\n",
       "        [     nan,      nan, ...,      nan,      nan],\n",
       "        [     nan,      nan, ...,      nan,      nan]]], dtype=float32)\n",
       "Coordinates:\n",
       "  * time       (time) object 2005-01-01 00:00:00 ... 2010-12-01 00:00:00\n",
       "  * longitude  (longitude) float64 0.0 5.625 11.25 16.88 ... 343.1 348.8 354.4\n",
       "  * latitude   (latitude) float64 85.76 80.27 74.74 ... -74.74 -80.27 -85.76\n",
       "Attributes:\n",
       "    standard_name:  total_precipitation\n",
       "    long_name:      total_precipitation\n",
       "    units:          mm day-1\n",
       "    code:           260"
      ]
     },
     "execution_count": 5,
     "metadata": {},
     "output_type": "execute_result"
    }
   ],
   "source": [
    "# only land\n",
    "daland = obrero.mask_land_ocean(da, lm)\n",
    "daland\n",
    "\n",
    "# only ocean\n",
    "daocean = obrero.mask_land_ocean(da, lm, ocean=True)\n",
    "daocean"
   ]
  },
  {
   "cell_type": "markdown",
   "metadata": {},
   "source": [
    "One can see `numpy.nan` values in opposite places in both arrays."
   ]
  }
 ],
 "metadata": {
  "kernelspec": {
   "display_name": "Python 3",
   "language": "python",
   "name": "python3"
  },
  "language_info": {
   "codemirror_mode": {
    "name": "ipython",
    "version": 3
   },
   "file_extension": ".py",
   "mimetype": "text/x-python",
   "name": "python",
   "nbconvert_exporter": "python",
   "pygments_lexer": "ipython3",
   "version": "3.6.0"
  }
 },
 "nbformat": 4,
 "nbformat_minor": 2
}
