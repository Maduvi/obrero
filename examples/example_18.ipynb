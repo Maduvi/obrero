{
 "cells": [
  {
   "cell_type": "markdown",
   "metadata": {},
   "source": [
    "# Masking arrays below some value\n",
    "\n",
    "This function was created mainly for plotting purposes. It is sometimes useful to mask values that are too small to matter (sad, we know). This is specially useful when in a plot we only want big differences to show up. So we have created a small function that masks values in an array that are below some threshold that the user can define. Let's import obrero: "
   ]
  },
  {
   "cell_type": "code",
   "execution_count": 1,
   "metadata": {},
   "outputs": [],
   "source": [
    "# small hack to be able to import module without install\n",
    "import os\n",
    "import sys\n",
    "sys.path.append(os.getcwd() + '/../')\n",
    "\n",
    "import obrero"
   ]
  },
  {
   "cell_type": "markdown",
   "metadata": {},
   "source": [
    "Now we read some data:"
   ]
  },
  {
   "cell_type": "code",
   "execution_count": 2,
   "metadata": {},
   "outputs": [],
   "source": [
    "# read data\n",
    "fname = 'data/ctl.nc'\n",
    "\n",
    "# read as data array\n",
    "da = obrero.read_nc(fname, 'pr')\n",
    "\n",
    "# convert units\n",
    "da.convert_units('mm day-1')"
   ]
  },
  {
   "cell_type": "markdown",
   "metadata": {},
   "source": [
    "And say we don't want small values of precipitation to show up in a plot. Maybe less than 0.1 mm day$^{-1}$ is very little to provide any useful information, so we want to mask values below this threshold for some later plotting. We do so using the function `mask_below()`, part of the `obrero.utils` module:"
   ]
  },
  {
   "cell_type": "code",
   "execution_count": 8,
   "metadata": {},
   "outputs": [
    {
     "data": {
      "text/plain": [
       "<xarray.DataArray 'pr' (time: 72, latitude: 32, longitude: 64)>\n",
       "array([[[0.70923 , 0.777796, ..., 0.540069, 0.629775],\n",
       "        [0.974657, 1.099068, ..., 0.706435, 0.826919],\n",
       "        ...,\n",
       "        [0.227743, 0.123709, ..., 0.353112, 0.311241],\n",
       "        [0.373475, 0.427707, ..., 0.332196, 0.348443]],\n",
       "\n",
       "       [[0.186415, 0.181961, ..., 0.169736, 0.178863],\n",
       "        [1.689129, 1.527837, ..., 1.74003 , 1.793405],\n",
       "        ...,\n",
       "        [     nan,      nan, ...,      nan,      nan],\n",
       "        [0.2091  , 0.248029, ..., 0.163378, 0.182041]],\n",
       "\n",
       "       ...,\n",
       "\n",
       "       [[0.555498, 0.599123, ..., 0.43743 , 0.504916],\n",
       "        [1.976995, 1.71042 , ..., 2.458799, 2.274632],\n",
       "        ...,\n",
       "        [0.751534, 0.88062 , ..., 0.371274, 0.526058],\n",
       "        [0.120024,      nan, ..., 0.159671, 0.138846]],\n",
       "\n",
       "       [[0.625771, 0.617749, ..., 0.601025, 0.618503],\n",
       "        [1.539145, 1.30133 , ..., 1.79069 , 1.720224],\n",
       "        ...,\n",
       "        [0.485342, 0.515671, ..., 0.27923 , 0.394253],\n",
       "        [0.249841, 0.239115, ..., 0.246213, 0.25401 ]]], dtype=float32)\n",
       "Coordinates:\n",
       "  * time       (time) object 2005-01-01 00:00:00 ... 2010-12-01 00:00:00\n",
       "  * longitude  (longitude) float64 0.0 5.625 11.25 16.88 ... 343.1 348.8 354.4\n",
       "  * latitude   (latitude) float64 85.76 80.27 74.74 ... -74.74 -80.27 -85.76\n",
       "Attributes:\n",
       "    standard_name:  total_precipitation\n",
       "    long_name:      total_precipitation\n",
       "    units:          mm day-1\n",
       "    code:           260"
      ]
     },
     "execution_count": 8,
     "metadata": {},
     "output_type": "execute_result"
    }
   ],
   "source": [
    "mda = obrero.mask_below(da, 0.1)\n",
    "mda"
   ]
  },
  {
   "cell_type": "markdown",
   "metadata": {},
   "source": [
    "Notice there are some NaN values. If we want to count how many NaN values there are, we need to import numpy and count:"
   ]
  },
  {
   "cell_type": "code",
   "execution_count": 13,
   "metadata": {},
   "outputs": [
    {
     "data": {
      "text/plain": [
       "10397"
      ]
     },
     "execution_count": 13,
     "metadata": {},
     "output_type": "execute_result"
    }
   ],
   "source": [
    "import numpy as np\n",
    "np.isnan(mda.values).sum()"
   ]
  },
  {
   "cell_type": "markdown",
   "metadata": {},
   "source": [
    "So there are 10397 values that have been masked. **Know that this function uses the absolute values of the array. This means that negative values will also be masked, and that the threshold can only be a positive number**."
   ]
  }
 ],
 "metadata": {
  "kernelspec": {
   "display_name": "Python 3",
   "language": "python",
   "name": "python3"
  },
  "language_info": {
   "codemirror_mode": {
    "name": "ipython",
    "version": 3
   },
   "file_extension": ".py",
   "mimetype": "text/x-python",
   "name": "python",
   "nbconvert_exporter": "python",
   "pygments_lexer": "ipython3",
   "version": "3.6.0"
  }
 },
 "nbformat": 4,
 "nbformat_minor": 2
}
